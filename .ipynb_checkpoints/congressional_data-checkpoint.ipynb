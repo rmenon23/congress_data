{
 "cells": [
  {
   "cell_type": "code",
   "execution_count": 77,
   "metadata": {
    "collapsed": false
   },
   "outputs": [],
   "source": [
    "#import all needed libraries\n",
    "import requests\n",
    "import pandas as pd\n",
    "import numpy as np\n",
    "import os\n",
    "from tqdm import tqdm\n",
    "\n",
    "# enter key\n",
    "key = {'X-API-Key' : os.getenv('PROPUBLICA_KEY')}\n",
    "\n",
    "# gather congressmen demographic data\n",
    "r_senate = requests.get('https://api.propublica.org/congress/v1/115/senate/members.json', headers = key)\n",
    "r_house = requests.get('https://api.propublica.org/congress/v1/115/house/members.json', headers = key)"
   ]
  },
  {
   "cell_type": "code",
   "execution_count": 78,
   "metadata": {
    "collapsed": false
   },
   "outputs": [],
   "source": [
    "temp_senate = r_senate.json()\n",
    "temp_house = r_house.json()\n",
    "\n",
    "senate_json = temp_senate['results'][0]['members']\n",
    "house_json = temp_house['results'][0]['members']\n",
    "\n",
    "\n",
    "senate_df = pd.DataFrame(senate_json)\n",
    "house_df = pd.DataFrame(house_json)\n",
    "\n",
    "needed_headers = [\"id\",\"first_name\",\"last_name\",\"party\",\"state\",\"phone\",\"votes_with_party_pct\"]"
   ]
  },
  {
   "cell_type": "code",
   "execution_count": 79,
   "metadata": {
    "collapsed": false
   },
   "outputs": [
    {
     "name": "stderr",
     "output_type": "stream",
     "text": [
      "/anaconda/envs/data_analysis/lib/python2.7/site-packages/ipykernel/__main__.py:3: SettingWithCopyWarning: \n",
      "A value is trying to be set on a copy of a slice from a DataFrame.\n",
      "Try using .loc[row_indexer,col_indexer] = value instead\n",
      "\n",
      "See the caveats in the documentation: http://pandas.pydata.org/pandas-docs/stable/indexing.html#indexing-view-versus-copy\n",
      "  app.launch_new_instance()\n",
      "/anaconda/envs/data_analysis/lib/python2.7/site-packages/ipykernel/__main__.py:6: SettingWithCopyWarning: \n",
      "A value is trying to be set on a copy of a slice from a DataFrame.\n",
      "Try using .loc[row_indexer,col_indexer] = value instead\n",
      "\n",
      "See the caveats in the documentation: http://pandas.pydata.org/pandas-docs/stable/indexing.html#indexing-view-versus-copy\n"
     ]
    },
    {
     "data": {
      "text/html": [
       "<div>\n",
       "<table border=\"1\" class=\"dataframe\">\n",
       "  <thead>\n",
       "    <tr style=\"text-align: right;\">\n",
       "      <th></th>\n",
       "      <th>id</th>\n",
       "      <th>first_name</th>\n",
       "      <th>last_name</th>\n",
       "      <th>party</th>\n",
       "      <th>state</th>\n",
       "      <th>phone</th>\n",
       "      <th>votes_with_party_pct</th>\n",
       "      <th>chamber</th>\n",
       "    </tr>\n",
       "  </thead>\n",
       "  <tbody>\n",
       "    <tr>\n",
       "      <th>0</th>\n",
       "      <td>A000055</td>\n",
       "      <td>Robert</td>\n",
       "      <td>Aderholt</td>\n",
       "      <td>R</td>\n",
       "      <td>AL</td>\n",
       "      <td>202-225-4876</td>\n",
       "      <td>98.17</td>\n",
       "      <td>H</td>\n",
       "    </tr>\n",
       "    <tr>\n",
       "      <th>1</th>\n",
       "      <td>A000367</td>\n",
       "      <td>Justin</td>\n",
       "      <td>Amash</td>\n",
       "      <td>R</td>\n",
       "      <td>MI</td>\n",
       "      <td>202-225-3831</td>\n",
       "      <td>84.09</td>\n",
       "      <td>H</td>\n",
       "    </tr>\n",
       "    <tr>\n",
       "      <th>2</th>\n",
       "      <td>A000369</td>\n",
       "      <td>Mark</td>\n",
       "      <td>Amodei</td>\n",
       "      <td>R</td>\n",
       "      <td>NV</td>\n",
       "      <td>202-225-6155</td>\n",
       "      <td>97.69</td>\n",
       "      <td>H</td>\n",
       "    </tr>\n",
       "    <tr>\n",
       "      <th>3</th>\n",
       "      <td>A000370</td>\n",
       "      <td>Alma</td>\n",
       "      <td>Adams</td>\n",
       "      <td>D</td>\n",
       "      <td>NC</td>\n",
       "      <td>202-225-1510</td>\n",
       "      <td>97.73</td>\n",
       "      <td>H</td>\n",
       "    </tr>\n",
       "    <tr>\n",
       "      <th>4</th>\n",
       "      <td>A000371</td>\n",
       "      <td>Pete</td>\n",
       "      <td>Aguilar</td>\n",
       "      <td>D</td>\n",
       "      <td>CA</td>\n",
       "      <td>202-225-3201</td>\n",
       "      <td>95.02</td>\n",
       "      <td>H</td>\n",
       "    </tr>\n",
       "  </tbody>\n",
       "</table>\n",
       "</div>"
      ],
      "text/plain": [
       "        id first_name last_name party state         phone  \\\n",
       "0  A000055     Robert  Aderholt     R    AL  202-225-4876   \n",
       "1  A000367     Justin     Amash     R    MI  202-225-3831   \n",
       "2  A000369       Mark    Amodei     R    NV  202-225-6155   \n",
       "3  A000370       Alma     Adams     D    NC  202-225-1510   \n",
       "4  A000371       Pete   Aguilar     D    CA  202-225-3201   \n",
       "\n",
       "  votes_with_party_pct chamber  \n",
       "0                98.17       H  \n",
       "1                84.09       H  \n",
       "2                97.69       H  \n",
       "3                97.73       H  \n",
       "4                95.02       H  "
      ]
     },
     "execution_count": 79,
     "metadata": {},
     "output_type": "execute_result"
    }
   ],
   "source": [
    "# create a clean dataframe with a markers for which chamber of Congress they are a member of \n",
    "house_df_clean = house_df[needed_headers]\n",
    "house_df_clean[\"chamber\"] = \"H\"\n",
    "\n",
    "senate_df_clean = senate_df[needed_headers]\n",
    "senate_df_clean[\"chamber\"] = \"S\"\n",
    "\n",
    "# append the two dataframes to create one clean data frame\n",
    "congress_members = house_df_clean.append(senate_df_clean)\n",
    "congress_members.head()"
   ]
  },
  {
   "cell_type": "code",
   "execution_count": 80,
   "metadata": {
    "collapsed": false
   },
   "outputs": [],
   "source": [
    "# get summary voting records to each bill in the house\n",
    "r_house_votes_1 = requests.get('https://api.propublica.org/congress/v1/house/votes/2017/01.json', headers = key).json()\n",
    "r_house_votes_2 = requests.get('https://api.propublica.org/congress/v1/house/votes/2017/02.json', headers = key).json()\n",
    "r_house_votes_3 = requests.get('https://api.propublica.org/congress/v1/house/votes/2017/03.json', headers = key).json()\n",
    "r_house_votes_4 = requests.get('https://api.propublica.org/congress/v1/house/votes/2017/04.json', headers = key).json()"
   ]
  },
  {
   "cell_type": "code",
   "execution_count": 54,
   "metadata": {
    "collapsed": false
   },
   "outputs": [
    {
     "name": "stderr",
     "output_type": "stream",
     "text": [
      "  0%|          | 1/220 [00:03<11:39,  3.19s/it]"
     ]
    },
    {
     "name": "stdout",
     "output_type": "stream",
     "text": [
      "'bill'\n"
     ]
    },
    {
     "name": "stderr",
     "output_type": "stream",
     "text": [
      "\r",
      "  1%|          | 2/220 [00:04<09:36,  2.64s/it]"
     ]
    },
    {
     "name": "stdout",
     "output_type": "stream",
     "text": [
      "'results'\n"
     ]
    },
    {
     "name": "stderr",
     "output_type": "stream",
     "text": [
      " 13%|█▎        | 28/220 [01:27<10:04,  3.15s/it]"
     ]
    },
    {
     "name": "stdout",
     "output_type": "stream",
     "text": [
      "'bill'\n"
     ]
    },
    {
     "name": "stderr",
     "output_type": "stream",
     "text": [
      " 46%|████▌     | 101/220 [04:45<04:53,  2.47s/it]"
     ]
    },
    {
     "name": "stdout",
     "output_type": "stream",
     "text": [
      "'bill'\n"
     ]
    },
    {
     "name": "stderr",
     "output_type": "stream",
     "text": [
      " 58%|█████▊    | 128/220 [06:11<04:40,  3.05s/it]"
     ]
    },
    {
     "name": "stdout",
     "output_type": "stream",
     "text": [
      "'bill'\n"
     ]
    },
    {
     "name": "stderr",
     "output_type": "stream",
     "text": [
      " 60%|██████    | 132/220 [06:22<04:06,  2.80s/it]"
     ]
    },
    {
     "name": "stdout",
     "output_type": "stream",
     "text": [
      "'bill'\n"
     ]
    },
    {
     "name": "stderr",
     "output_type": "stream",
     "text": [
      " 61%|██████    | 134/220 [06:27<03:49,  2.67s/it]"
     ]
    },
    {
     "name": "stdout",
     "output_type": "stream",
     "text": [
      "'bill'\n"
     ]
    },
    {
     "name": "stderr",
     "output_type": "stream",
     "text": [
      "\r",
      " 61%|██████▏   | 135/220 [06:30<03:52,  2.74s/it]"
     ]
    },
    {
     "name": "stdout",
     "output_type": "stream",
     "text": [
      "'bill'\n"
     ]
    },
    {
     "name": "stderr",
     "output_type": "stream",
     "text": [
      " 62%|██████▏   | 137/220 [06:35<03:35,  2.60s/it]"
     ]
    },
    {
     "name": "stdout",
     "output_type": "stream",
     "text": [
      "'bill'\n"
     ]
    },
    {
     "name": "stderr",
     "output_type": "stream",
     "text": [
      " 73%|███████▎  | 161/220 [07:50<02:48,  2.86s/it]"
     ]
    },
    {
     "name": "stdout",
     "output_type": "stream",
     "text": [
      "'bill'\n"
     ]
    },
    {
     "name": "stderr",
     "output_type": "stream",
     "text": [
      " 75%|███████▍  | 164/220 [07:59<02:39,  2.85s/it]"
     ]
    },
    {
     "name": "stdout",
     "output_type": "stream",
     "text": [
      "'bill'\n"
     ]
    },
    {
     "name": "stderr",
     "output_type": "stream",
     "text": [
      " 78%|███████▊  | 172/220 [08:25<02:19,  2.90s/it]"
     ]
    },
    {
     "name": "stdout",
     "output_type": "stream",
     "text": [
      "'bill'\n"
     ]
    },
    {
     "name": "stderr",
     "output_type": "stream",
     "text": [
      " 83%|████████▎ | 182/220 [08:52<01:44,  2.76s/it]"
     ]
    },
    {
     "name": "stdout",
     "output_type": "stream",
     "text": [
      "'bill'\n"
     ]
    },
    {
     "name": "stderr",
     "output_type": "stream",
     "text": [
      " 86%|████████▋ | 190/220 [09:14<01:16,  2.54s/it]"
     ]
    },
    {
     "name": "stdout",
     "output_type": "stream",
     "text": [
      "'bill'\n"
     ]
    },
    {
     "name": "stderr",
     "output_type": "stream",
     "text": [
      " 88%|████████▊ | 194/220 [09:28<01:28,  3.42s/it]"
     ]
    },
    {
     "name": "stdout",
     "output_type": "stream",
     "text": [
      "'bill'\n"
     ]
    },
    {
     "name": "stderr",
     "output_type": "stream",
     "text": [
      " 91%|█████████▏| 201/220 [09:50<00:53,  2.81s/it]"
     ]
    },
    {
     "name": "stdout",
     "output_type": "stream",
     "text": [
      "'bill'\n"
     ]
    },
    {
     "name": "stderr",
     "output_type": "stream",
     "text": [
      " 94%|█████████▎| 206/220 [10:35<02:43, 11.66s/it]"
     ]
    },
    {
     "name": "stdout",
     "output_type": "stream",
     "text": [
      "'results'\n"
     ]
    },
    {
     "name": "stderr",
     "output_type": "stream",
     "text": [
      "100%|█████████▉| 219/220 [11:33<00:02,  2.71s/it]"
     ]
    },
    {
     "name": "stdout",
     "output_type": "stream",
     "text": [
      "'bill'\n"
     ]
    },
    {
     "name": "stderr",
     "output_type": "stream",
     "text": [
      "100%|██████████| 220/220 [11:39<00:00,  3.78s/it]\n"
     ]
    }
   ],
   "source": [
    "# create one large dataframe for all of the House votes\n",
    "\n",
    "# check the number of bills\n",
    "roll_calls_jan = len(r_house_votes_1['results']['votes'])\n",
    "roll_calls_feb = len(r_house_votes_2['results']['votes'])\n",
    "roll_calls_mar = len(r_house_votes_3['results']['votes'])\n",
    "roll_calls_apr = len(r_house_votes_4['results']['votes'])\n",
    "roll_calls_total = roll_calls_jan + roll_calls_feb + roll_calls_mar + roll_calls_apr\n",
    "\n",
    "all_house_votes = pd.DataFrame()\n",
    "for rc in tqdm(range(1, roll_calls_total)):\n",
    "    try:\n",
    "        rc_votes_temp_house = requests.get(\"https://api.propublica.org/congress/v1/115/house/sessions/1/votes/\" + str(rc) + \".json\", headers = key).json()\n",
    "        temp_df = pd.DataFrame(rc_votes_temp_house['results']['votes']['vote']['positions'])\n",
    "        all_house_votes = all_house_votes.append(temp_df)\n",
    "        all_house_votes['bill_id'] = rc_votes_temp_house['results']['votes']['vote']['bill']['bill_id']\n",
    "    except KeyError as error:\n",
    "        print error"
   ]
  },
  {
   "cell_type": "code",
   "execution_count": 55,
   "metadata": {
    "collapsed": false
   },
   "outputs": [
    {
     "data": {
      "text/html": [
       "<div>\n",
       "<table border=\"1\" class=\"dataframe\">\n",
       "  <thead>\n",
       "    <tr style=\"text-align: right;\">\n",
       "      <th></th>\n",
       "      <th>bill_id</th>\n",
       "      <th>dw_nominate</th>\n",
       "      <th>member_id</th>\n",
       "      <th>vote_position</th>\n",
       "    </tr>\n",
       "  </thead>\n",
       "  <tbody>\n",
       "    <tr>\n",
       "      <th>0</th>\n",
       "      <td>hr1304-115</td>\n",
       "      <td></td>\n",
       "      <td>A000374</td>\n",
       "      <td>Present</td>\n",
       "    </tr>\n",
       "    <tr>\n",
       "      <th>1</th>\n",
       "      <td>hr1304-115</td>\n",
       "      <td></td>\n",
       "      <td>A000370</td>\n",
       "      <td>Present</td>\n",
       "    </tr>\n",
       "    <tr>\n",
       "      <th>2</th>\n",
       "      <td>hr1304-115</td>\n",
       "      <td></td>\n",
       "      <td>A000055</td>\n",
       "      <td>Present</td>\n",
       "    </tr>\n",
       "    <tr>\n",
       "      <th>3</th>\n",
       "      <td>hr1304-115</td>\n",
       "      <td></td>\n",
       "      <td>A000371</td>\n",
       "      <td>Present</td>\n",
       "    </tr>\n",
       "    <tr>\n",
       "      <th>4</th>\n",
       "      <td>hr1304-115</td>\n",
       "      <td></td>\n",
       "      <td>A000372</td>\n",
       "      <td>Present</td>\n",
       "    </tr>\n",
       "  </tbody>\n",
       "</table>\n",
       "</div>"
      ],
      "text/plain": [
       "      bill_id dw_nominate member_id vote_position\n",
       "0  hr1304-115               A000374       Present\n",
       "1  hr1304-115               A000370       Present\n",
       "2  hr1304-115               A000055       Present\n",
       "3  hr1304-115               A000371       Present\n",
       "4  hr1304-115               A000372       Present"
      ]
     },
     "execution_count": 55,
     "metadata": {},
     "output_type": "execute_result"
    }
   ],
   "source": [
    "# check the structure of the dataset\n",
    "all_house_votes.head()"
   ]
  },
  {
   "cell_type": "code",
   "execution_count": 9,
   "metadata": {
    "collapsed": true
   },
   "outputs": [],
   "source": [
    "# get summary voting records to each bill in the house\n",
    "r_senate_votes_1 = requests.get('https://api.propublica.org/congress/v1/senate/votes/2017/01.json', headers = key).json()\n",
    "r_senate_votes_2 = requests.get('https://api.propublica.org/congress/v1/senate/votes/2017/02.json', headers = key).json()\n",
    "r_senate_votes_3 = requests.get('https://api.propublica.org/congress/v1/senate/votes/2017/03.json', headers = key).json()\n",
    "r_senate_votes_4 = requests.get('https://api.propublica.org/congress/v1/senate/votes/2017/04.json', headers = key).json()"
   ]
  },
  {
   "cell_type": "code",
   "execution_count": 10,
   "metadata": {
    "collapsed": false
   },
   "outputs": [
    {
     "name": "stdout",
     "output_type": "stream",
     "text": [
      "1\n",
      "2\n",
      "3\n",
      "4\n",
      "5\n",
      "6\n",
      "7\n",
      "8\n",
      "9\n",
      "10\n",
      "11\n",
      "12\n",
      "13\n",
      "14\n",
      "15\n",
      "16\n",
      "17\n",
      "18\n",
      "19\n",
      "20\n",
      "21\n",
      "22\n",
      "23\n",
      "24\n",
      "25\n",
      "26\n",
      "27\n",
      "28\n",
      "29\n",
      "'bill'\n",
      "30\n",
      "'bill'\n",
      "31\n",
      "'bill'\n",
      "32\n",
      "'bill'\n",
      "33\n",
      "'bill'\n",
      "34\n",
      "'bill'\n",
      "35\n",
      "'bill'\n",
      "36\n",
      "'bill'\n",
      "37\n",
      "'bill'\n",
      "38\n",
      "'bill'\n",
      "39\n",
      "'bill'\n",
      "40\n",
      "'bill'\n",
      "41\n",
      "'bill'\n",
      "42\n",
      "43\n",
      "44\n",
      "'bill'\n",
      "45\n",
      "'bill'\n",
      "46\n",
      "'bill'\n",
      "47\n",
      "'bill'\n",
      "48\n",
      "'bill'\n",
      "49\n",
      "'bill'\n",
      "50\n",
      "51\n",
      "52\n",
      "'bill'\n",
      "53\n",
      "'bill'\n",
      "54\n",
      "'bill'\n",
      "55\n",
      "'bill'\n",
      "56\n",
      "'bill'\n",
      "57\n",
      "'bill'\n",
      "58\n",
      "'bill'\n",
      "59\n",
      "'bill'\n",
      "60\n",
      "'bill'\n",
      "61\n",
      "'bill'\n",
      "62\n",
      "'bill'\n",
      "63\n",
      "'bill'\n",
      "64\n",
      "'bill'\n",
      "65\n",
      "'bill'\n",
      "66\n",
      "67\n",
      "'bill'\n",
      "68\n",
      "'bill'\n",
      "69\n",
      "'bill'\n",
      "70\n",
      "'bill'\n",
      "71\n",
      "'bill'\n",
      "72\n",
      "'bill'\n",
      "73\n",
      "'bill'\n",
      "74\n",
      "'bill'\n",
      "75\n",
      "'bill'\n",
      "76\n",
      "'bill'\n",
      "77\n",
      "'bill'\n",
      "78\n",
      "'bill'\n",
      "79\n",
      "'bill'\n",
      "80\n",
      "81\n",
      "82\n",
      "83\n",
      "84\n",
      "85\n",
      "'bill'\n",
      "86\n",
      "'bill'\n",
      "87\n",
      "88\n",
      "'bill'\n",
      "89\n",
      "'bill'\n",
      "90\n",
      "'bill'\n",
      "91\n",
      "'bill'\n",
      "92\n",
      "93\n",
      "94\n",
      "95\n",
      "'bill'\n",
      "96\n",
      "'bill'\n",
      "97\n",
      "'bill'\n",
      "98\n",
      "'bill'\n",
      "99\n",
      "100\n",
      "101\n",
      "102\n",
      "103\n",
      "'bill'\n",
      "104\n",
      "'bill'\n",
      "105\n",
      "'bill'\n",
      "106\n",
      "'bill'\n",
      "107\n",
      "'bill'\n",
      "108\n",
      "'bill'\n",
      "109\n",
      "'bill'\n",
      "110\n",
      "'bill'\n"
     ]
    }
   ],
   "source": [
    "# create one large dataframe for all of the Senate votes\n",
    "senate_roll_calls_jan = len(r_senate_votes_1['results']['votes'])\n",
    "senate_roll_calls_feb = len(r_senate_votes_2['results']['votes'])\n",
    "senate_roll_calls_mar = len(r_senate_votes_3['results']['votes'])\n",
    "senate_roll_calls_apr = len(r_senate_votes_4['results']['votes'])\n",
    "senate_roll_calls_total = senate_roll_calls_jan + senate_roll_calls_feb + senate_roll_calls_mar + senate_roll_calls_apr\n",
    "\n",
    "all_senate_votes = pd.DataFrame()\n",
    "for rc in tqdm(range(1,senate_roll_calls_total)):\n",
    "    print rc\n",
    "    try:\n",
    "        rc_votes_temp_senate = requests.get(\"https://api.propublica.org/congress/v1/115/senate/sessions/1/votes/\" + str(rc) + \".json\", headers = key).json()\n",
    "        temp_df = pd.DataFrame(rc_votes_temp_senate['results']['votes']['vote']['positions'])\n",
    "        all_senate_votes = all_senate_votes.append(temp_df)\n",
    "        all_senate_votes['bill_id'] = rc_votes_temp_senate['results']['votes']['vote']['bill']['bill_id']\n",
    "    except KeyError as error:\n",
    "        print error"
   ]
  },
  {
   "cell_type": "code",
   "execution_count": 58,
   "metadata": {
    "collapsed": false
   },
   "outputs": [
    {
     "data": {
      "text/plain": [
       "array([u's89-115', nan], dtype=object)"
      ]
     },
     "execution_count": 58,
     "metadata": {},
     "output_type": "execute_result"
    }
   ],
   "source": [
    "# check the structure of the senate dataset\n",
    "all_senate_votes.head()"
   ]
  },
  {
   "cell_type": "code",
   "execution_count": 57,
   "metadata": {
    "collapsed": false
   },
   "outputs": [
    {
     "name": "stdout",
     "output_type": "stream",
     "text": [
      "Number of House votes: 94124\n",
      "Number of House roll call votes with Bill ID: 216\n",
      "Number of House Bill IDs: 94124\n",
      "Number of House Unique Bill IDs: 1\n",
      "Number of Senate votes: 11000\n",
      "Number of Senate roll call votes with Bill ID: 110\n",
      "Number of Senate Bill IDs: 94124\n",
      "Number of Senate Unique Bill IDs: 1\n"
     ]
    }
   ],
   "source": [
    "# # check the number of House roll call votes in dataset\n",
    "# print \"Number of House votes: \" + str(len(all_house_votes))\n",
    "# print \"Number of House roll call votes with Bill ID: \" + str(len(all_house_votes) / 435)\n",
    "# print \"Number of House Bill IDs: \" + str(len(all_house_votes['bill_id']))\n",
    "# print \"Number of House Unique Bill IDs: \" + str(len(all_house_votes['bill_id'].unique()))\n",
    "\n",
    "# # check the number of Senate roll call votes in dataset\n",
    "# print \"Number of Senate votes: \" + str(len(all_senate_votes))\n",
    "# print \"Number of Senate roll call votes with Bill ID: \" + str(len(all_senate_votes) / 100)\n",
    "# print \"Number of Senate Bill IDs: \" + str(len(all_house_votes['bill_id']))\n",
    "# print \"Number of Senate Unique Bill IDs: \" + str(len(all_house_votes['bill_id'].unique()))"
   ]
  },
  {
   "cell_type": "code",
   "execution_count": 81,
   "metadata": {
    "collapsed": false
   },
   "outputs": [
    {
     "data": {
      "text/html": [
       "<div>\n",
       "<table border=\"1\" class=\"dataframe\">\n",
       "  <thead>\n",
       "    <tr style=\"text-align: right;\">\n",
       "      <th></th>\n",
       "      <th>member_id</th>\n",
       "      <th>vote_position</th>\n",
       "      <th>counter</th>\n",
       "    </tr>\n",
       "  </thead>\n",
       "  <tbody>\n",
       "    <tr>\n",
       "      <th>0</th>\n",
       "      <td>A000055</td>\n",
       "      <td>No</td>\n",
       "      <td>70</td>\n",
       "    </tr>\n",
       "    <tr>\n",
       "      <th>1</th>\n",
       "      <td>A000055</td>\n",
       "      <td>Not Voting</td>\n",
       "      <td>3</td>\n",
       "    </tr>\n",
       "    <tr>\n",
       "      <th>3</th>\n",
       "      <td>A000055</td>\n",
       "      <td>Yes</td>\n",
       "      <td>144</td>\n",
       "    </tr>\n",
       "    <tr>\n",
       "      <th>4</th>\n",
       "      <td>A000360</td>\n",
       "      <td>No</td>\n",
       "      <td>21</td>\n",
       "    </tr>\n",
       "    <tr>\n",
       "      <th>5</th>\n",
       "      <td>A000360</td>\n",
       "      <td>Not Voting</td>\n",
       "      <td>3</td>\n",
       "    </tr>\n",
       "  </tbody>\n",
       "</table>\n",
       "</div>"
      ],
      "text/plain": [
       "  member_id vote_position  counter\n",
       "0   A000055            No       70\n",
       "1   A000055    Not Voting        3\n",
       "3   A000055           Yes      144\n",
       "4   A000360            No       21\n",
       "5   A000360    Not Voting        3"
      ]
     },
     "execution_count": 81,
     "metadata": {},
     "output_type": "execute_result"
    }
   ],
   "source": [
    "# merge in membes with votes\n",
    "all_votes = pd.concat([all_house_votes,all_senate_votes])\n",
    "all_votes['counter'] = 1\n",
    "\n",
    "count_by_congressman = all_votes.groupby(['member_id','vote_position']).count()\n",
    "count_by_congressman_df = pd.DataFrame(count_by_congressman['counter'])\n",
    "count_by_congressman_df = count_by_congressman_df.reset_index(level = ['member_id','vote_position'])\n",
    "count_by_congressman_df = count_by_congressman_df[count_by_congressman_df['vote_position'] != \"Present\"]\n",
    "count_by_congressman_df.head()"
   ]
  },
  {
   "cell_type": "code",
   "execution_count": 103,
   "metadata": {
    "collapsed": false
   },
   "outputs": [
    {
     "name": "stdout",
     "output_type": "stream",
     "text": [
      "id                      object\n",
      "first_name              object\n",
      "last_name               object\n",
      "party                   object\n",
      "state                   object\n",
      "phone                   object\n",
      "votes_with_party_pct    object\n",
      "chamber                 object\n",
      "vote_position           object\n",
      "counter                  int64\n",
      "dtype: object\n"
     ]
    }
   ],
   "source": [
    "full_df = congress_members.merge(count_by_congressman_df, how = \"inner\", left_on = \"id\", right_on = \"member_id\")\n",
    "\n",
    "full_df['first_name'] = full_df['first_name'].str.encode('utf-8', errors='strict')\n",
    "full_df['last_name'] = full_df['last_name'].str.encode('utf-8', errors='strict')\n",
    "\n",
    "full_df = full_df.drop(['member_id'], axis = 1)\n",
    "print full_df.dtypes"
   ]
  },
  {
   "cell_type": "code",
   "execution_count": 104,
   "metadata": {
    "collapsed": false
   },
   "outputs": [],
   "source": [
    "full_df.to_csv('/Users/rmenon/Projects/congress_app/lib/data/congress_vote_distribution.csv',index = False)"
   ]
  }
 ],
 "metadata": {
  "kernelspec": {
   "display_name": "Python [conda env:data_analysis]",
   "language": "python",
   "name": "conda-env-data_analysis-py"
  },
  "language_info": {
   "codemirror_mode": {
    "name": "ipython",
    "version": 2
   },
   "file_extension": ".py",
   "mimetype": "text/x-python",
   "name": "python",
   "nbconvert_exporter": "python",
   "pygments_lexer": "ipython2",
   "version": "2.7.13"
  }
 },
 "nbformat": 4,
 "nbformat_minor": 2
}
