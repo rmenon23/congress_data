{
 "cells": [
  {
   "cell_type": "code",
   "execution_count": 6,
   "metadata": {
    "collapsed": false
   },
   "outputs": [],
   "source": [
    "#import all needed libraries\n",
    "import requests\n",
    "import pandas as pd\n",
    "import numpy as np\n",
    "import os\n",
    "from tqdm import tqdm\n",
    "\n",
    "# enter key\n",
    "key = {'X-API-Key' : os.getenv('PROPUBLICA_KEY')}\n",
    "\n",
    "# gather congressmen demographic data\n",
    "r_senate = requests.get('https://api.propublica.org/congress/v1/115/senate/members.json', headers = key)\n",
    "r_house = requests.get('https://api.propublica.org/congress/v1/115/house/members.json', headers = key)"
   ]
  },
  {
   "cell_type": "code",
   "execution_count": 7,
   "metadata": {
    "collapsed": false
   },
   "outputs": [],
   "source": [
    "temp_senate = r_senate.json()\n",
    "temp_house = r_house.json()\n",
    "\n",
    "senate_json = temp_senate['results'][0]['members']\n",
    "house_json = temp_house['results'][0]['members']\n",
    "\n",
    "\n",
    "senate_df = pd.DataFrame(senate_json)\n",
    "house_df = pd.DataFrame(house_json)\n",
    "\n",
    "needed_headers = [\"id\",\"first_name\",\"last_name\",\"party\",\"state\",\"phone\",\"votes_with_party_pct\"]"
   ]
  },
  {
   "cell_type": "code",
   "execution_count": 8,
   "metadata": {
    "collapsed": false
   },
   "outputs": [
    {
     "name": "stderr",
     "output_type": "stream",
     "text": [
      "/anaconda/envs/data_analysis/lib/python2.7/site-packages/ipykernel/__main__.py:3: SettingWithCopyWarning: \n",
      "A value is trying to be set on a copy of a slice from a DataFrame.\n",
      "Try using .loc[row_indexer,col_indexer] = value instead\n",
      "\n",
      "See the caveats in the documentation: http://pandas.pydata.org/pandas-docs/stable/indexing.html#indexing-view-versus-copy\n",
      "  app.launch_new_instance()\n",
      "/anaconda/envs/data_analysis/lib/python2.7/site-packages/ipykernel/__main__.py:6: SettingWithCopyWarning: \n",
      "A value is trying to be set on a copy of a slice from a DataFrame.\n",
      "Try using .loc[row_indexer,col_indexer] = value instead\n",
      "\n",
      "See the caveats in the documentation: http://pandas.pydata.org/pandas-docs/stable/indexing.html#indexing-view-versus-copy\n"
     ]
    },
    {
     "data": {
      "text/html": [
       "<div>\n",
       "<table border=\"1\" class=\"dataframe\">\n",
       "  <thead>\n",
       "    <tr style=\"text-align: right;\">\n",
       "      <th></th>\n",
       "      <th>id</th>\n",
       "      <th>first_name</th>\n",
       "      <th>last_name</th>\n",
       "      <th>party</th>\n",
       "      <th>state</th>\n",
       "      <th>phone</th>\n",
       "      <th>votes_with_party_pct</th>\n",
       "      <th>chamber</th>\n",
       "    </tr>\n",
       "  </thead>\n",
       "  <tbody>\n",
       "    <tr>\n",
       "      <th>0</th>\n",
       "      <td>A000055</td>\n",
       "      <td>Robert</td>\n",
       "      <td>Aderholt</td>\n",
       "      <td>R</td>\n",
       "      <td>AL</td>\n",
       "      <td>202-225-4876</td>\n",
       "      <td>98.17</td>\n",
       "      <td>H</td>\n",
       "    </tr>\n",
       "    <tr>\n",
       "      <th>1</th>\n",
       "      <td>A000367</td>\n",
       "      <td>Justin</td>\n",
       "      <td>Amash</td>\n",
       "      <td>R</td>\n",
       "      <td>MI</td>\n",
       "      <td>202-225-3831</td>\n",
       "      <td>84.09</td>\n",
       "      <td>H</td>\n",
       "    </tr>\n",
       "    <tr>\n",
       "      <th>2</th>\n",
       "      <td>A000369</td>\n",
       "      <td>Mark</td>\n",
       "      <td>Amodei</td>\n",
       "      <td>R</td>\n",
       "      <td>NV</td>\n",
       "      <td>202-225-6155</td>\n",
       "      <td>97.69</td>\n",
       "      <td>H</td>\n",
       "    </tr>\n",
       "    <tr>\n",
       "      <th>3</th>\n",
       "      <td>A000370</td>\n",
       "      <td>Alma</td>\n",
       "      <td>Adams</td>\n",
       "      <td>D</td>\n",
       "      <td>NC</td>\n",
       "      <td>202-225-1510</td>\n",
       "      <td>97.73</td>\n",
       "      <td>H</td>\n",
       "    </tr>\n",
       "    <tr>\n",
       "      <th>4</th>\n",
       "      <td>A000371</td>\n",
       "      <td>Pete</td>\n",
       "      <td>Aguilar</td>\n",
       "      <td>D</td>\n",
       "      <td>CA</td>\n",
       "      <td>202-225-3201</td>\n",
       "      <td>95.02</td>\n",
       "      <td>H</td>\n",
       "    </tr>\n",
       "  </tbody>\n",
       "</table>\n",
       "</div>"
      ],
      "text/plain": [
       "        id first_name last_name party state         phone  \\\n",
       "0  A000055     Robert  Aderholt     R    AL  202-225-4876   \n",
       "1  A000367     Justin     Amash     R    MI  202-225-3831   \n",
       "2  A000369       Mark    Amodei     R    NV  202-225-6155   \n",
       "3  A000370       Alma     Adams     D    NC  202-225-1510   \n",
       "4  A000371       Pete   Aguilar     D    CA  202-225-3201   \n",
       "\n",
       "  votes_with_party_pct chamber  \n",
       "0                98.17       H  \n",
       "1                84.09       H  \n",
       "2                97.69       H  \n",
       "3                97.73       H  \n",
       "4                95.02       H  "
      ]
     },
     "execution_count": 8,
     "metadata": {},
     "output_type": "execute_result"
    }
   ],
   "source": [
    "# create a clean dataframe with a markers for which chamber of Congress they are a member of \n",
    "house_df_clean = house_df[needed_headers]\n",
    "house_df_clean[\"chamber\"] = \"H\"\n",
    "\n",
    "senate_df_clean = senate_df[needed_headers]\n",
    "senate_df_clean[\"chamber\"] = \"S\"\n",
    "\n",
    "# append the two dataframes to create one clean data frame\n",
    "congress_members = house_df_clean.append(senate_df_clean)\n",
    "congress_members.head()"
   ]
  },
  {
   "cell_type": "code",
   "execution_count": 9,
   "metadata": {
    "collapsed": false
   },
   "outputs": [],
   "source": [
    "# get summary voting records to each bill in the house\n",
    "r_house_votes_1 = requests.get('https://api.propublica.org/congress/v1/house/votes/2017/01.json', headers = key).json()\n",
    "r_house_votes_2 = requests.get('https://api.propublica.org/congress/v1/house/votes/2017/02.json', headers = key).json()\n",
    "r_house_votes_3 = requests.get('https://api.propublica.org/congress/v1/house/votes/2017/03.json', headers = key).json()\n",
    "r_house_votes_4 = requests.get('https://api.propublica.org/congress/v1/house/votes/2017/04.json', headers = key).json()"
   ]
  },
  {
   "cell_type": "code",
   "execution_count": 10,
   "metadata": {
    "collapsed": false
   },
   "outputs": [
    {
     "name": "stderr",
     "output_type": "stream",
     "text": [
      "\n",
      "  0%|          | 0/220 [00:00<?, ?it/s]\u001b[A\n",
      "  0%|          | 1/220 [00:03<12:02,  3.30s/it]"
     ]
    },
    {
     "name": "stdout",
     "output_type": "stream",
     "text": [
      "'bill'\n"
     ]
    },
    {
     "name": "stderr",
     "output_type": "stream",
     "text": [
      "\u001b[A\n",
      "\n",
      "  1%|          | 2/220 [00:04<09:54,  2.73s/it]"
     ]
    },
    {
     "name": "stdout",
     "output_type": "stream",
     "text": [
      "'results'\n"
     ]
    },
    {
     "name": "stderr",
     "output_type": "stream",
     "text": [
      "\u001b[A\n",
      "  1%|▏         | 3/220 [00:07<09:37,  2.66s/it]\u001b[A\n",
      "  2%|▏         | 4/220 [00:09<09:34,  2.66s/it]\u001b[A\n",
      "  2%|▏         | 5/220 [00:12<09:32,  2.66s/it]\u001b[A\n",
      "  3%|▎         | 6/220 [00:14<09:10,  2.57s/it]\u001b[A\n",
      "  3%|▎         | 7/220 [00:18<09:59,  2.82s/it]\u001b[A\n",
      "  4%|▎         | 8/220 [00:21<10:01,  2.84s/it]\u001b[A\n",
      "  4%|▍         | 9/220 [00:23<09:45,  2.77s/it]\u001b[A\n",
      "  5%|▍         | 10/220 [00:26<09:11,  2.62s/it]\u001b[A\n",
      "  5%|▌         | 11/220 [00:28<09:23,  2.70s/it]\u001b[A\n",
      "  5%|▌         | 12/220 [00:33<10:48,  3.12s/it]\u001b[A\n",
      "  6%|▌         | 13/220 [00:38<13:13,  3.84s/it]\u001b[A\n",
      "  6%|▋         | 14/220 [00:40<11:44,  3.42s/it]\u001b[A\n",
      "  7%|▋         | 15/220 [00:44<11:33,  3.38s/it]\u001b[A\n",
      "  7%|▋         | 16/220 [00:47<11:10,  3.28s/it]\u001b[A\n",
      "  8%|▊         | 17/220 [00:50<10:55,  3.23s/it]\u001b[A\n",
      "  8%|▊         | 18/220 [00:52<10:03,  2.99s/it]\u001b[A\n",
      "  9%|▊         | 19/220 [00:55<10:06,  3.02s/it]\u001b[A\n",
      "  9%|▉         | 20/220 [00:59<11:03,  3.32s/it]\u001b[A\n",
      " 10%|▉         | 21/220 [01:07<14:53,  4.49s/it]\u001b[A\n",
      " 10%|█         | 22/220 [01:14<17:16,  5.24s/it]\u001b[A\n",
      " 10%|█         | 23/220 [01:18<16:40,  5.08s/it]\u001b[A\n",
      " 11%|█         | 24/220 [01:21<14:37,  4.48s/it]\u001b[A\n",
      " 11%|█▏        | 25/220 [01:25<13:10,  4.05s/it]\u001b[A\n",
      " 12%|█▏        | 26/220 [01:29<13:19,  4.12s/it]\u001b[A\n",
      " 12%|█▏        | 27/220 [01:34<14:38,  4.55s/it]\u001b[A\n",
      " 13%|█▎        | 28/220 [01:38<13:21,  4.17s/it]"
     ]
    },
    {
     "name": "stdout",
     "output_type": "stream",
     "text": [
      "'bill'\n"
     ]
    },
    {
     "name": "stderr",
     "output_type": "stream",
     "text": [
      "\u001b[A\n",
      " 13%|█▎        | 29/220 [01:41<12:08,  3.81s/it]\u001b[A\n",
      " 14%|█▎        | 30/220 [01:45<12:36,  3.98s/it]\u001b[A\n",
      " 14%|█▍        | 31/220 [01:48<11:53,  3.78s/it]\u001b[A\n",
      " 15%|█▍        | 32/220 [01:51<10:49,  3.46s/it]\u001b[A\n",
      " 15%|█▌        | 33/220 [01:54<10:33,  3.39s/it]\u001b[A\n",
      " 15%|█▌        | 34/220 [01:57<10:23,  3.35s/it]\u001b[A\n",
      " 16%|█▌        | 35/220 [02:01<10:04,  3.27s/it]\u001b[A\n",
      " 16%|█▋        | 36/220 [02:05<11:20,  3.70s/it]\u001b[A\n",
      " 17%|█▋        | 37/220 [02:09<10:53,  3.57s/it]\u001b[A\n",
      " 17%|█▋        | 38/220 [02:11<10:12,  3.36s/it]\u001b[A\n",
      " 18%|█▊        | 39/220 [02:15<10:25,  3.46s/it]\u001b[A\n",
      " 18%|█▊        | 40/220 [02:19<10:23,  3.46s/it]\u001b[A\n",
      " 19%|█▊        | 41/220 [02:21<09:27,  3.17s/it]\u001b[A\n",
      " 19%|█▉        | 42/220 [02:24<08:56,  3.02s/it]\u001b[A\n",
      " 20%|█▉        | 43/220 [02:27<09:18,  3.15s/it]\u001b[A\n",
      " 20%|██        | 44/220 [02:30<08:51,  3.02s/it]\u001b[A\n",
      " 20%|██        | 45/220 [02:33<08:38,  2.96s/it]\u001b[A\n",
      " 21%|██        | 46/220 [02:36<08:30,  2.93s/it]\u001b[A\n",
      " 21%|██▏       | 47/220 [02:42<11:35,  4.02s/it]\u001b[A\n",
      " 22%|██▏       | 48/220 [02:46<11:25,  3.98s/it]\u001b[A\n",
      " 22%|██▏       | 49/220 [02:52<12:50,  4.50s/it]\u001b[A\n",
      " 23%|██▎       | 50/220 [02:58<14:29,  5.11s/it]\u001b[A\n",
      " 23%|██▎       | 51/220 [03:03<14:14,  5.05s/it]\u001b[A\n",
      " 24%|██▎       | 52/220 [03:06<12:39,  4.52s/it]\u001b[A\n",
      " 24%|██▍       | 53/220 [03:10<11:47,  4.24s/it]\u001b[A\n",
      " 25%|██▍       | 54/220 [03:14<11:42,  4.23s/it]\u001b[A\n",
      " 25%|██▌       | 55/220 [03:19<11:52,  4.32s/it]\u001b[A\n",
      " 25%|██▌       | 56/220 [03:25<12:57,  4.74s/it]\u001b[A\n",
      " 26%|██▌       | 57/220 [03:28<11:45,  4.33s/it]\u001b[A\n",
      " 26%|██▋       | 58/220 [03:32<11:16,  4.18s/it]\u001b[A\n",
      " 27%|██▋       | 59/220 [03:36<11:07,  4.15s/it]\u001b[A\n",
      " 27%|██▋       | 60/220 [03:40<11:30,  4.32s/it]\u001b[A\n",
      " 28%|██▊       | 61/220 [03:47<13:23,  5.05s/it]\u001b[A\n",
      " 28%|██▊       | 62/220 [03:51<12:35,  4.78s/it]\u001b[A\n",
      " 29%|██▊       | 63/220 [03:54<10:38,  4.06s/it]\u001b[A\n",
      " 29%|██▉       | 64/220 [03:58<10:35,  4.07s/it]\u001b[A\n",
      " 30%|██▉       | 65/220 [04:01<10:03,  3.89s/it]\u001b[A\n",
      " 30%|███       | 66/220 [04:05<10:08,  3.95s/it]\u001b[A\n",
      " 30%|███       | 67/220 [04:09<09:45,  3.82s/it]\u001b[A\n",
      " 31%|███       | 68/220 [04:12<09:14,  3.65s/it]\u001b[A\n",
      " 31%|███▏      | 69/220 [04:16<09:22,  3.73s/it]\u001b[A\n",
      " 32%|███▏      | 70/220 [04:19<08:44,  3.49s/it]\u001b[A\n",
      " 32%|███▏      | 71/220 [04:24<09:39,  3.89s/it]\u001b[A\n",
      " 33%|███▎      | 72/220 [04:27<08:52,  3.60s/it]\u001b[A\n",
      " 33%|███▎      | 73/220 [04:30<08:15,  3.37s/it]\u001b[A\n",
      " 34%|███▎      | 74/220 [04:33<08:17,  3.41s/it]\u001b[A\n",
      " 34%|███▍      | 75/220 [04:37<08:34,  3.55s/it]\u001b[A\n",
      " 35%|███▍      | 76/220 [04:40<07:51,  3.28s/it]\u001b[A\n",
      " 35%|███▌      | 77/220 [04:43<07:39,  3.21s/it]\u001b[A\n",
      " 35%|███▌      | 78/220 [04:46<07:32,  3.19s/it]\u001b[A\n",
      " 36%|███▌      | 79/220 [04:49<07:07,  3.03s/it]\u001b[A\n",
      " 36%|███▋      | 80/220 [04:51<06:48,  2.92s/it]\u001b[A\n",
      " 37%|███▋      | 81/220 [04:54<06:26,  2.78s/it]\u001b[A\n",
      " 37%|███▋      | 82/220 [04:57<06:35,  2.87s/it]\u001b[A\n",
      " 38%|███▊      | 83/220 [05:00<06:57,  3.05s/it]\u001b[A\n",
      " 38%|███▊      | 84/220 [05:04<07:11,  3.17s/it]\u001b[A\n",
      " 39%|███▊      | 85/220 [05:07<07:20,  3.26s/it]\u001b[A\n",
      " 39%|███▉      | 86/220 [05:10<06:53,  3.08s/it]\u001b[A\n",
      " 40%|███▉      | 87/220 [05:16<09:01,  4.07s/it]\u001b[A\n",
      " 40%|████      | 88/220 [05:19<08:08,  3.70s/it]\u001b[A\n",
      " 40%|████      | 89/220 [05:22<07:32,  3.45s/it]\u001b[A\n",
      " 41%|████      | 90/220 [05:25<06:58,  3.22s/it]\u001b[A\n",
      " 41%|████▏     | 91/220 [05:27<06:36,  3.07s/it]\u001b[A\n",
      " 42%|████▏     | 92/220 [05:30<06:22,  2.99s/it]\u001b[A\n",
      " 42%|████▏     | 93/220 [05:33<06:23,  3.02s/it]\u001b[A\n",
      " 43%|████▎     | 94/220 [05:36<06:30,  3.10s/it]\u001b[A\n",
      " 43%|████▎     | 95/220 [05:39<06:09,  2.96s/it]\u001b[A\n",
      " 44%|████▎     | 96/220 [05:42<06:03,  2.93s/it]\u001b[A\n",
      " 44%|████▍     | 97/220 [05:46<06:36,  3.23s/it]\u001b[A\n",
      " 45%|████▍     | 98/220 [05:49<06:35,  3.24s/it]\u001b[A\n",
      " 45%|████▌     | 99/220 [05:52<06:32,  3.24s/it]\u001b[A\n",
      " 45%|████▌     | 100/220 [05:55<06:23,  3.20s/it]\u001b[A\n",
      " 46%|████▌     | 101/220 [05:58<05:53,  2.97s/it]"
     ]
    },
    {
     "name": "stdout",
     "output_type": "stream",
     "text": [
      "'bill'\n"
     ]
    },
    {
     "name": "stderr",
     "output_type": "stream",
     "text": [
      "\u001b[A\n",
      " 46%|████▋     | 102/220 [06:01<05:40,  2.88s/it]\u001b[A\n",
      " 47%|████▋     | 103/220 [06:05<06:42,  3.44s/it]\u001b[A\n",
      " 47%|████▋     | 104/220 [06:09<06:53,  3.57s/it]\u001b[A\n",
      " 48%|████▊     | 105/220 [06:12<06:32,  3.42s/it]\u001b[A\n",
      " 48%|████▊     | 106/220 [06:15<05:49,  3.07s/it]\u001b[A\n",
      " 49%|████▊     | 107/220 [06:17<05:25,  2.88s/it]\u001b[A\n",
      " 49%|████▉     | 108/220 [06:19<05:08,  2.75s/it]\u001b[A\n",
      " 50%|████▉     | 109/220 [06:22<04:55,  2.66s/it]\u001b[A\n",
      " 50%|█████     | 110/220 [06:24<04:45,  2.60s/it]\u001b[A\n",
      " 50%|█████     | 111/220 [06:27<04:49,  2.65s/it]\u001b[A\n",
      " 51%|█████     | 112/220 [06:30<04:43,  2.62s/it]\u001b[A\n",
      " 51%|█████▏    | 113/220 [06:33<05:02,  2.83s/it]\u001b[A\n",
      " 52%|█████▏    | 114/220 [06:36<04:54,  2.78s/it]\u001b[A\n",
      " 52%|█████▏    | 115/220 [06:38<04:41,  2.68s/it]\u001b[A\n",
      " 53%|█████▎    | 116/220 [06:40<04:24,  2.54s/it]\u001b[A\n",
      " 53%|█████▎    | 117/220 [06:43<04:23,  2.55s/it]\u001b[A\n",
      " 54%|█████▎    | 118/220 [06:46<04:27,  2.62s/it]\u001b[A\n",
      " 54%|█████▍    | 119/220 [06:49<04:33,  2.71s/it]\u001b[A\n",
      " 55%|█████▍    | 120/220 [06:51<04:33,  2.74s/it]\u001b[A\n",
      " 55%|█████▌    | 121/220 [06:54<04:33,  2.77s/it]\u001b[A\n",
      " 55%|█████▌    | 122/220 [06:57<04:35,  2.81s/it]\u001b[A\n",
      " 56%|█████▌    | 123/220 [07:00<04:39,  2.88s/it]\u001b[A\n",
      " 56%|█████▋    | 124/220 [07:07<06:28,  4.04s/it]\u001b[A\n",
      " 57%|█████▋    | 125/220 [07:11<06:21,  4.02s/it]\u001b[A\n",
      " 57%|█████▋    | 126/220 [07:14<05:48,  3.71s/it]\u001b[A\n",
      " 58%|█████▊    | 127/220 [07:17<05:33,  3.59s/it]\u001b[A\n",
      " 58%|█████▊    | 128/220 [07:20<05:10,  3.37s/it]"
     ]
    },
    {
     "name": "stdout",
     "output_type": "stream",
     "text": [
      "'bill'\n"
     ]
    },
    {
     "name": "stderr",
     "output_type": "stream",
     "text": [
      "\u001b[A\n",
      " 59%|█████▊    | 129/220 [07:23<04:49,  3.18s/it]\u001b[A\n",
      " 59%|█████▉    | 130/220 [07:25<04:30,  3.00s/it]\u001b[A\n",
      " 60%|█████▉    | 131/220 [07:28<04:06,  2.77s/it]\u001b[A\n",
      " 60%|██████    | 132/220 [07:30<04:00,  2.74s/it]"
     ]
    },
    {
     "name": "stdout",
     "output_type": "stream",
     "text": [
      "'bill'\n"
     ]
    },
    {
     "name": "stderr",
     "output_type": "stream",
     "text": [
      "\u001b[A\n",
      " 60%|██████    | 133/220 [07:36<05:20,  3.68s/it]\u001b[A\n",
      " 61%|██████    | 134/220 [07:39<04:52,  3.40s/it]"
     ]
    },
    {
     "name": "stdout",
     "output_type": "stream",
     "text": [
      "'bill'\n"
     ]
    },
    {
     "name": "stderr",
     "output_type": "stream",
     "text": [
      "\u001b[A\n",
      " 61%|██████▏   | 135/220 [07:42<04:29,  3.17s/it]"
     ]
    },
    {
     "name": "stdout",
     "output_type": "stream",
     "text": [
      "'bill'\n"
     ]
    },
    {
     "name": "stderr",
     "output_type": "stream",
     "text": [
      "\u001b[A\n",
      " 62%|██████▏   | 136/220 [07:45<04:29,  3.21s/it]\u001b[A\n",
      " 62%|██████▏   | 137/220 [07:47<04:07,  2.98s/it]"
     ]
    },
    {
     "name": "stdout",
     "output_type": "stream",
     "text": [
      "'bill'\n"
     ]
    },
    {
     "name": "stderr",
     "output_type": "stream",
     "text": [
      "\u001b[A\n",
      " 63%|██████▎   | 138/220 [07:51<04:12,  3.08s/it]\u001b[A\n",
      " 63%|██████▎   | 139/220 [07:54<04:28,  3.31s/it]\u001b[A\n",
      " 64%|██████▎   | 140/220 [07:58<04:36,  3.46s/it]\u001b[A\n",
      " 64%|██████▍   | 141/220 [08:05<06:02,  4.59s/it]\u001b[A\n",
      " 65%|██████▍   | 142/220 [08:08<05:19,  4.09s/it]\u001b[A\n",
      " 65%|██████▌   | 143/220 [08:12<05:05,  3.97s/it]\u001b[A\n",
      " 65%|██████▌   | 144/220 [08:15<04:36,  3.63s/it]\u001b[A\n",
      " 66%|██████▌   | 145/220 [08:18<04:16,  3.42s/it]\u001b[A\n",
      " 66%|██████▋   | 146/220 [08:20<03:52,  3.14s/it]\u001b[A\n",
      " 67%|██████▋   | 147/220 [08:23<03:42,  3.04s/it]\u001b[A\n",
      " 67%|██████▋   | 148/220 [08:26<03:29,  2.91s/it]\u001b[A\n",
      " 68%|██████▊   | 149/220 [08:29<03:36,  3.05s/it]\u001b[A\n",
      " 68%|██████▊   | 150/220 [08:32<03:29,  2.99s/it]\u001b[A\n",
      " 69%|██████▊   | 151/220 [08:35<03:23,  2.95s/it]\u001b[A\n",
      " 69%|██████▉   | 152/220 [08:37<03:10,  2.80s/it]\u001b[A\n",
      " 70%|██████▉   | 153/220 [08:40<03:00,  2.69s/it]\u001b[A\n",
      " 70%|███████   | 154/220 [08:42<02:57,  2.69s/it]\u001b[A\n",
      " 70%|███████   | 155/220 [08:46<03:06,  2.87s/it]\u001b[A\n",
      " 71%|███████   | 156/220 [08:49<03:07,  2.93s/it]\u001b[A\n",
      " 71%|███████▏  | 157/220 [08:51<02:50,  2.71s/it]\u001b[A\n",
      " 72%|███████▏  | 158/220 [08:54<03:02,  2.95s/it]\u001b[A\n",
      " 72%|███████▏  | 159/220 [08:57<02:58,  2.93s/it]\u001b[A\n",
      " 73%|███████▎  | 160/220 [09:03<03:50,  3.83s/it]\u001b[A\n",
      " 73%|███████▎  | 161/220 [09:09<04:25,  4.50s/it]"
     ]
    },
    {
     "name": "stdout",
     "output_type": "stream",
     "text": [
      "'bill'\n"
     ]
    },
    {
     "name": "stderr",
     "output_type": "stream",
     "text": [
      "\u001b[A\n",
      " 74%|███████▎  | 162/220 [09:14<04:26,  4.60s/it]\u001b[A\n",
      " 74%|███████▍  | 163/220 [09:17<03:44,  3.94s/it]\u001b[A\n",
      " 75%|███████▍  | 164/220 [09:19<03:19,  3.56s/it]"
     ]
    },
    {
     "name": "stdout",
     "output_type": "stream",
     "text": [
      "'bill'\n"
     ]
    },
    {
     "name": "stderr",
     "output_type": "stream",
     "text": [
      "\u001b[A\n",
      " 75%|███████▌  | 165/220 [09:26<04:05,  4.46s/it]\u001b[A\n",
      " 75%|███████▌  | 166/220 [09:32<04:31,  5.03s/it]\u001b[A\n",
      " 76%|███████▌  | 167/220 [09:36<04:01,  4.56s/it]\u001b[A\n",
      " 76%|███████▋  | 168/220 [09:38<03:23,  3.92s/it]\u001b[A\n",
      " 77%|███████▋  | 169/220 [09:43<03:29,  4.10s/it]\u001b[A\n",
      " 77%|███████▋  | 170/220 [09:45<03:06,  3.74s/it]\u001b[A\n",
      " 78%|███████▊  | 171/220 [09:48<02:47,  3.41s/it]\u001b[A\n",
      " 78%|███████▊  | 172/220 [09:51<02:29,  3.12s/it]"
     ]
    },
    {
     "name": "stdout",
     "output_type": "stream",
     "text": [
      "'bill'\n"
     ]
    },
    {
     "name": "stderr",
     "output_type": "stream",
     "text": [
      "\u001b[A\n",
      " 79%|███████▊  | 173/220 [09:53<02:20,  2.99s/it]\u001b[A\n",
      " 79%|███████▉  | 174/220 [09:56<02:11,  2.85s/it]\u001b[A\n",
      " 80%|███████▉  | 175/220 [09:59<02:10,  2.89s/it]\u001b[A\n",
      " 80%|████████  | 176/220 [10:02<02:15,  3.07s/it]\u001b[A\n",
      " 80%|████████  | 177/220 [10:05<02:06,  2.95s/it]\u001b[A\n",
      " 81%|████████  | 178/220 [10:08<01:59,  2.86s/it]\u001b[A\n",
      " 81%|████████▏ | 179/220 [10:10<01:56,  2.84s/it]\u001b[A\n",
      " 82%|████████▏ | 180/220 [10:14<01:57,  2.94s/it]\u001b[A\n",
      " 82%|████████▏ | 181/220 [10:16<01:50,  2.84s/it]\u001b[A\n",
      " 83%|████████▎ | 182/220 [10:19<01:46,  2.80s/it]"
     ]
    },
    {
     "name": "stdout",
     "output_type": "stream",
     "text": [
      "'bill'\n"
     ]
    },
    {
     "name": "stderr",
     "output_type": "stream",
     "text": [
      "\u001b[A\n",
      " 83%|████████▎ | 183/220 [10:21<01:37,  2.63s/it]\u001b[A\n",
      " 84%|████████▎ | 184/220 [10:25<01:52,  3.13s/it]\u001b[A\n",
      " 84%|████████▍ | 185/220 [10:28<01:42,  2.93s/it]\u001b[A\n",
      " 85%|████████▍ | 186/220 [10:32<01:49,  3.22s/it]\u001b[A\n",
      " 85%|████████▌ | 187/220 [10:37<02:09,  3.91s/it]\u001b[A\n",
      " 85%|████████▌ | 188/220 [10:40<01:51,  3.49s/it]\u001b[A\n",
      " 86%|████████▌ | 189/220 [10:44<01:57,  3.78s/it]\u001b[A\n",
      " 86%|████████▋ | 190/220 [10:47<01:45,  3.50s/it]"
     ]
    },
    {
     "name": "stdout",
     "output_type": "stream",
     "text": [
      "'bill'\n"
     ]
    },
    {
     "name": "stderr",
     "output_type": "stream",
     "text": [
      "\u001b[A\n",
      " 87%|████████▋ | 191/220 [10:50<01:34,  3.26s/it]\u001b[A\n",
      " 87%|████████▋ | 192/220 [10:52<01:22,  2.95s/it]\u001b[A\n",
      " 88%|████████▊ | 193/220 [10:56<01:25,  3.17s/it]\u001b[A\n",
      " 88%|████████▊ | 194/220 [10:58<01:14,  2.88s/it]"
     ]
    },
    {
     "name": "stdout",
     "output_type": "stream",
     "text": [
      "'bill'\n"
     ]
    },
    {
     "name": "stderr",
     "output_type": "stream",
     "text": [
      "\u001b[A\n",
      " 89%|████████▊ | 195/220 [11:00<01:09,  2.77s/it]\u001b[A\n",
      " 89%|████████▉ | 196/220 [11:07<01:36,  4.03s/it]\u001b[A\n",
      " 90%|████████▉ | 197/220 [11:13<01:40,  4.36s/it]\u001b[A\n",
      " 90%|█████████ | 198/220 [11:16<01:27,  3.97s/it]\u001b[A\n",
      " 90%|█████████ | 199/220 [11:21<01:30,  4.31s/it]\u001b[A\n",
      " 91%|█████████ | 200/220 [11:25<01:26,  4.31s/it]\u001b[A\n",
      " 91%|█████████▏| 201/220 [11:28<01:12,  3.82s/it]"
     ]
    },
    {
     "name": "stdout",
     "output_type": "stream",
     "text": [
      "'bill'\n"
     ]
    },
    {
     "name": "stderr",
     "output_type": "stream",
     "text": [
      "\u001b[A\n",
      " 92%|█████████▏| 202/220 [11:31<01:05,  3.66s/it]\u001b[A\n",
      " 92%|█████████▏| 203/220 [11:33<00:55,  3.29s/it]\u001b[A\n",
      " 93%|█████████▎| 204/220 [11:37<00:51,  3.24s/it]\u001b[A\n",
      " 93%|█████████▎| 205/220 [11:39<00:44,  2.99s/it]\u001b[A\n",
      " 94%|█████████▎| 206/220 [11:42<00:40,  2.89s/it]\u001b[A\n",
      " 94%|█████████▍| 207/220 [11:45<00:38,  2.94s/it]\u001b[A\n",
      " 95%|█████████▍| 208/220 [11:47<00:32,  2.74s/it]\u001b[A\n",
      " 95%|█████████▌| 209/220 [11:50<00:29,  2.72s/it]\u001b[A\n",
      " 95%|█████████▌| 210/220 [11:52<00:26,  2.63s/it]\u001b[A\n",
      " 96%|█████████▌| 211/220 [11:54<00:22,  2.55s/it]\u001b[A\n",
      " 96%|█████████▋| 212/220 [12:00<00:27,  3.42s/it]\u001b[A\n",
      " 97%|█████████▋| 213/220 [12:03<00:24,  3.44s/it]\u001b[A\n",
      " 97%|█████████▋| 214/220 [12:06<00:18,  3.08s/it]\u001b[A\n",
      " 98%|█████████▊| 215/220 [12:08<00:14,  2.90s/it]\u001b[A\n",
      " 98%|█████████▊| 216/220 [12:11<00:11,  2.98s/it]\u001b[A\n",
      " 99%|█████████▊| 217/220 [12:18<00:12,  4.02s/it]\u001b[A\n",
      " 99%|█████████▉| 218/220 [12:23<00:08,  4.41s/it]\u001b[A\n",
      "100%|█████████▉| 219/220 [12:25<00:03,  3.81s/it]"
     ]
    },
    {
     "name": "stdout",
     "output_type": "stream",
     "text": [
      "'bill'\n"
     ]
    },
    {
     "name": "stderr",
     "output_type": "stream",
     "text": [
      "\u001b[A\n",
      "100%|██████████| 220/220 [12:28<00:00,  3.36s/it]\u001b[A\n",
      "\u001b[A"
     ]
    }
   ],
   "source": [
    "# create one large dataframe for all of the House votes\n",
    "\n",
    "# check the number of bills\n",
    "roll_calls_jan = len(r_house_votes_1['results']['votes'])\n",
    "roll_calls_feb = len(r_house_votes_2['results']['votes'])\n",
    "roll_calls_mar = len(r_house_votes_3['results']['votes'])\n",
    "roll_calls_apr = len(r_house_votes_4['results']['votes'])\n",
    "roll_calls_total = roll_calls_jan + roll_calls_feb + roll_calls_mar + roll_calls_apr\n",
    "\n",
    "all_house_votes = pd.DataFrame()\n",
    "for rc in tqdm(range(1, roll_calls_total)):\n",
    "    try:\n",
    "        rc_votes_temp_house = requests.get(\"https://api.propublica.org/congress/v1/115/house/sessions/1/votes/\" + str(rc) + \".json\", headers = key).json()\n",
    "        temp_df = pd.DataFrame(rc_votes_temp_house['results']['votes']['vote']['positions'])\n",
    "        all_house_votes = all_house_votes.append(temp_df)\n",
    "        all_house_votes['bill_id'] = rc_votes_temp_house['results']['votes']['vote']['bill']['bill_id']\n",
    "    except KeyError as error:\n",
    "        print error"
   ]
  },
  {
   "cell_type": "code",
   "execution_count": 11,
   "metadata": {
    "collapsed": false
   },
   "outputs": [
    {
     "data": {
      "text/html": [
       "<div>\n",
       "<table border=\"1\" class=\"dataframe\">\n",
       "  <thead>\n",
       "    <tr style=\"text-align: right;\">\n",
       "      <th></th>\n",
       "      <th>bill_id</th>\n",
       "      <th>dw_nominate</th>\n",
       "      <th>member_id</th>\n",
       "      <th>vote_position</th>\n",
       "    </tr>\n",
       "  </thead>\n",
       "  <tbody>\n",
       "    <tr>\n",
       "      <th>0</th>\n",
       "      <td>hr1304-115</td>\n",
       "      <td></td>\n",
       "      <td>A000374</td>\n",
       "      <td>Present</td>\n",
       "    </tr>\n",
       "    <tr>\n",
       "      <th>1</th>\n",
       "      <td>hr1304-115</td>\n",
       "      <td></td>\n",
       "      <td>A000370</td>\n",
       "      <td>Present</td>\n",
       "    </tr>\n",
       "    <tr>\n",
       "      <th>2</th>\n",
       "      <td>hr1304-115</td>\n",
       "      <td></td>\n",
       "      <td>A000055</td>\n",
       "      <td>Present</td>\n",
       "    </tr>\n",
       "    <tr>\n",
       "      <th>3</th>\n",
       "      <td>hr1304-115</td>\n",
       "      <td></td>\n",
       "      <td>A000371</td>\n",
       "      <td>Present</td>\n",
       "    </tr>\n",
       "    <tr>\n",
       "      <th>4</th>\n",
       "      <td>hr1304-115</td>\n",
       "      <td></td>\n",
       "      <td>A000372</td>\n",
       "      <td>Present</td>\n",
       "    </tr>\n",
       "  </tbody>\n",
       "</table>\n",
       "</div>"
      ],
      "text/plain": [
       "      bill_id dw_nominate member_id vote_position\n",
       "0  hr1304-115               A000374       Present\n",
       "1  hr1304-115               A000370       Present\n",
       "2  hr1304-115               A000055       Present\n",
       "3  hr1304-115               A000371       Present\n",
       "4  hr1304-115               A000372       Present"
      ]
     },
     "execution_count": 11,
     "metadata": {},
     "output_type": "execute_result"
    }
   ],
   "source": [
    "# check the structure of the dataset\n",
    "all_house_votes.head()"
   ]
  },
  {
   "cell_type": "code",
   "execution_count": 12,
   "metadata": {
    "collapsed": true
   },
   "outputs": [],
   "source": [
    "# get summary voting records to each bill in the house\n",
    "r_senate_votes_1 = requests.get('https://api.propublica.org/congress/v1/senate/votes/2017/01.json', headers = key).json()\n",
    "r_senate_votes_2 = requests.get('https://api.propublica.org/congress/v1/senate/votes/2017/02.json', headers = key).json()\n",
    "r_senate_votes_3 = requests.get('https://api.propublica.org/congress/v1/senate/votes/2017/03.json', headers = key).json()\n",
    "r_senate_votes_4 = requests.get('https://api.propublica.org/congress/v1/senate/votes/2017/04.json', headers = key).json()"
   ]
  },
  {
   "cell_type": "code",
   "execution_count": 13,
   "metadata": {
    "collapsed": false
   },
   "outputs": [
    {
     "name": "stderr",
     "output_type": "stream",
     "text": [
      "\r",
      "  0%|          | 0/110 [00:00<?, ?it/s]"
     ]
    },
    {
     "name": "stdout",
     "output_type": "stream",
     "text": [
      "1\n"
     ]
    },
    {
     "name": "stderr",
     "output_type": "stream",
     "text": [
      "\r",
      "  1%|          | 1/110 [00:00<01:37,  1.11it/s]"
     ]
    },
    {
     "name": "stdout",
     "output_type": "stream",
     "text": [
      "2\n"
     ]
    },
    {
     "name": "stderr",
     "output_type": "stream",
     "text": [
      "\r",
      "  2%|▏         | 2/110 [00:01<01:40,  1.07it/s]"
     ]
    },
    {
     "name": "stdout",
     "output_type": "stream",
     "text": [
      "3\n"
     ]
    },
    {
     "name": "stderr",
     "output_type": "stream",
     "text": [
      "\r",
      "  3%|▎         | 3/110 [00:02<01:43,  1.04it/s]"
     ]
    },
    {
     "name": "stdout",
     "output_type": "stream",
     "text": [
      "4\n"
     ]
    },
    {
     "name": "stderr",
     "output_type": "stream",
     "text": [
      "\r",
      "  4%|▎         | 4/110 [00:03<01:44,  1.02it/s]"
     ]
    },
    {
     "name": "stdout",
     "output_type": "stream",
     "text": [
      "5\n"
     ]
    },
    {
     "name": "stderr",
     "output_type": "stream",
     "text": [
      "\r",
      "  5%|▍         | 5/110 [00:04<01:44,  1.01it/s]"
     ]
    },
    {
     "name": "stdout",
     "output_type": "stream",
     "text": [
      "6\n"
     ]
    },
    {
     "name": "stderr",
     "output_type": "stream",
     "text": [
      "\r",
      "  5%|▌         | 6/110 [00:06<01:44,  1.00s/it]"
     ]
    },
    {
     "name": "stdout",
     "output_type": "stream",
     "text": [
      "7\n"
     ]
    },
    {
     "name": "stderr",
     "output_type": "stream",
     "text": [
      "\r",
      "  6%|▋         | 7/110 [00:06<01:37,  1.06it/s]"
     ]
    },
    {
     "name": "stdout",
     "output_type": "stream",
     "text": [
      "8\n"
     ]
    },
    {
     "name": "stderr",
     "output_type": "stream",
     "text": [
      "\r",
      "  7%|▋         | 8/110 [00:07<01:32,  1.10it/s]"
     ]
    },
    {
     "name": "stdout",
     "output_type": "stream",
     "text": [
      "9\n"
     ]
    },
    {
     "name": "stderr",
     "output_type": "stream",
     "text": [
      "\r",
      "  8%|▊         | 9/110 [00:08<01:35,  1.06it/s]"
     ]
    },
    {
     "name": "stdout",
     "output_type": "stream",
     "text": [
      "10\n"
     ]
    },
    {
     "name": "stderr",
     "output_type": "stream",
     "text": [
      "\r",
      "  9%|▉         | 10/110 [00:10<02:01,  1.21s/it]"
     ]
    },
    {
     "name": "stdout",
     "output_type": "stream",
     "text": [
      "11\n"
     ]
    },
    {
     "name": "stderr",
     "output_type": "stream",
     "text": [
      "\r",
      " 10%|█         | 11/110 [00:11<01:54,  1.16s/it]"
     ]
    },
    {
     "name": "stdout",
     "output_type": "stream",
     "text": [
      "12\n"
     ]
    },
    {
     "name": "stderr",
     "output_type": "stream",
     "text": [
      "\r",
      " 11%|█         | 12/110 [00:12<01:49,  1.12s/it]"
     ]
    },
    {
     "name": "stdout",
     "output_type": "stream",
     "text": [
      "13\n"
     ]
    },
    {
     "name": "stderr",
     "output_type": "stream",
     "text": [
      "\r",
      " 12%|█▏        | 13/110 [00:13<01:51,  1.15s/it]"
     ]
    },
    {
     "name": "stdout",
     "output_type": "stream",
     "text": [
      "14\n"
     ]
    },
    {
     "name": "stderr",
     "output_type": "stream",
     "text": [
      "\r",
      " 13%|█▎        | 14/110 [00:14<01:46,  1.11s/it]"
     ]
    },
    {
     "name": "stdout",
     "output_type": "stream",
     "text": [
      "15\n"
     ]
    },
    {
     "name": "stderr",
     "output_type": "stream",
     "text": [
      "\r",
      " 14%|█▎        | 15/110 [00:16<01:54,  1.21s/it]"
     ]
    },
    {
     "name": "stdout",
     "output_type": "stream",
     "text": [
      "16\n"
     ]
    },
    {
     "name": "stderr",
     "output_type": "stream",
     "text": [
      "\r",
      " 15%|█▍        | 16/110 [00:17<01:59,  1.28s/it]"
     ]
    },
    {
     "name": "stdout",
     "output_type": "stream",
     "text": [
      "17\n"
     ]
    },
    {
     "name": "stderr",
     "output_type": "stream",
     "text": [
      "\r",
      " 15%|█▌        | 17/110 [00:18<01:51,  1.20s/it]"
     ]
    },
    {
     "name": "stdout",
     "output_type": "stream",
     "text": [
      "18\n"
     ]
    },
    {
     "name": "stderr",
     "output_type": "stream",
     "text": [
      "\r",
      " 16%|█▋        | 18/110 [00:19<01:45,  1.15s/it]"
     ]
    },
    {
     "name": "stdout",
     "output_type": "stream",
     "text": [
      "19\n"
     ]
    },
    {
     "name": "stderr",
     "output_type": "stream",
     "text": [
      "\r",
      " 17%|█▋        | 19/110 [00:20<01:46,  1.17s/it]"
     ]
    },
    {
     "name": "stdout",
     "output_type": "stream",
     "text": [
      "20\n"
     ]
    },
    {
     "name": "stderr",
     "output_type": "stream",
     "text": [
      "\r",
      " 18%|█▊        | 20/110 [00:21<01:41,  1.13s/it]"
     ]
    },
    {
     "name": "stdout",
     "output_type": "stream",
     "text": [
      "21\n"
     ]
    },
    {
     "name": "stderr",
     "output_type": "stream",
     "text": [
      "\r",
      " 19%|█▉        | 21/110 [00:23<01:37,  1.10s/it]"
     ]
    },
    {
     "name": "stdout",
     "output_type": "stream",
     "text": [
      "22\n"
     ]
    },
    {
     "name": "stderr",
     "output_type": "stream",
     "text": [
      "\r",
      " 20%|██        | 22/110 [00:24<01:34,  1.07s/it]"
     ]
    },
    {
     "name": "stdout",
     "output_type": "stream",
     "text": [
      "23\n"
     ]
    },
    {
     "name": "stderr",
     "output_type": "stream",
     "text": [
      "\r",
      " 21%|██        | 23/110 [00:24<01:26,  1.00it/s]"
     ]
    },
    {
     "name": "stdout",
     "output_type": "stream",
     "text": [
      "24\n"
     ]
    },
    {
     "name": "stderr",
     "output_type": "stream",
     "text": [
      "\r",
      " 22%|██▏       | 24/110 [00:25<01:26,  1.00s/it]"
     ]
    },
    {
     "name": "stdout",
     "output_type": "stream",
     "text": [
      "25\n"
     ]
    },
    {
     "name": "stderr",
     "output_type": "stream",
     "text": [
      "\r",
      " 23%|██▎       | 25/110 [00:26<01:20,  1.05it/s]"
     ]
    },
    {
     "name": "stdout",
     "output_type": "stream",
     "text": [
      "26\n"
     ]
    },
    {
     "name": "stderr",
     "output_type": "stream",
     "text": [
      "\r",
      " 24%|██▎       | 26/110 [00:27<01:21,  1.03it/s]"
     ]
    },
    {
     "name": "stdout",
     "output_type": "stream",
     "text": [
      "27\n"
     ]
    },
    {
     "name": "stderr",
     "output_type": "stream",
     "text": [
      "\r",
      " 25%|██▍       | 27/110 [00:28<01:21,  1.01it/s]"
     ]
    },
    {
     "name": "stdout",
     "output_type": "stream",
     "text": [
      "28\n"
     ]
    },
    {
     "name": "stderr",
     "output_type": "stream",
     "text": [
      "\r",
      " 25%|██▌       | 28/110 [00:29<01:16,  1.07it/s]"
     ]
    },
    {
     "name": "stdout",
     "output_type": "stream",
     "text": [
      "29\n"
     ]
    },
    {
     "name": "stderr",
     "output_type": "stream",
     "text": [
      "\r",
      " 26%|██▋       | 29/110 [00:30<01:17,  1.04it/s]"
     ]
    },
    {
     "name": "stdout",
     "output_type": "stream",
     "text": [
      "'bill'\n",
      "30\n"
     ]
    },
    {
     "name": "stderr",
     "output_type": "stream",
     "text": [
      "\r",
      " 27%|██▋       | 30/110 [00:31<01:18,  1.02it/s]"
     ]
    },
    {
     "name": "stdout",
     "output_type": "stream",
     "text": [
      "'bill'\n",
      "31\n"
     ]
    },
    {
     "name": "stderr",
     "output_type": "stream",
     "text": [
      "\r",
      " 28%|██▊       | 31/110 [00:32<01:23,  1.06s/it]"
     ]
    },
    {
     "name": "stdout",
     "output_type": "stream",
     "text": [
      "'bill'\n",
      "32\n"
     ]
    },
    {
     "name": "stderr",
     "output_type": "stream",
     "text": [
      "\r",
      " 29%|██▉       | 32/110 [00:33<01:16,  1.02it/s]"
     ]
    },
    {
     "name": "stdout",
     "output_type": "stream",
     "text": [
      "'bill'\n",
      "33\n"
     ]
    },
    {
     "name": "stderr",
     "output_type": "stream",
     "text": [
      "\r",
      " 30%|███       | 33/110 [00:34<01:15,  1.01it/s]"
     ]
    },
    {
     "name": "stdout",
     "output_type": "stream",
     "text": [
      "'bill'\n",
      "34\n"
     ]
    },
    {
     "name": "stderr",
     "output_type": "stream",
     "text": [
      "\r",
      " 31%|███       | 34/110 [00:35<01:20,  1.05s/it]"
     ]
    },
    {
     "name": "stdout",
     "output_type": "stream",
     "text": [
      "'bill'\n",
      "35\n"
     ]
    },
    {
     "name": "stderr",
     "output_type": "stream",
     "text": [
      "\r",
      " 32%|███▏      | 35/110 [00:36<01:14,  1.00it/s]"
     ]
    },
    {
     "name": "stdout",
     "output_type": "stream",
     "text": [
      "'bill'\n",
      "36\n"
     ]
    },
    {
     "name": "stderr",
     "output_type": "stream",
     "text": [
      "\r",
      " 33%|███▎      | 36/110 [00:37<01:19,  1.07s/it]"
     ]
    },
    {
     "name": "stdout",
     "output_type": "stream",
     "text": [
      "'bill'\n",
      "37\n"
     ]
    },
    {
     "name": "stderr",
     "output_type": "stream",
     "text": [
      "\r",
      " 34%|███▎      | 37/110 [00:39<01:24,  1.16s/it]"
     ]
    },
    {
     "name": "stdout",
     "output_type": "stream",
     "text": [
      "'bill'\n",
      "38\n"
     ]
    },
    {
     "name": "stderr",
     "output_type": "stream",
     "text": [
      "\r",
      " 35%|███▍      | 38/110 [00:41<01:43,  1.44s/it]"
     ]
    },
    {
     "name": "stdout",
     "output_type": "stream",
     "text": [
      "'bill'\n",
      "39\n"
     ]
    },
    {
     "name": "stderr",
     "output_type": "stream",
     "text": [
      "\r",
      " 35%|███▌      | 39/110 [00:42<01:33,  1.32s/it]"
     ]
    },
    {
     "name": "stdout",
     "output_type": "stream",
     "text": [
      "'bill'\n",
      "40\n"
     ]
    },
    {
     "name": "stderr",
     "output_type": "stream",
     "text": [
      "\r",
      " 36%|███▋      | 40/110 [00:43<01:21,  1.17s/it]"
     ]
    },
    {
     "name": "stdout",
     "output_type": "stream",
     "text": [
      "'bill'\n",
      "41\n"
     ]
    },
    {
     "name": "stderr",
     "output_type": "stream",
     "text": [
      "\r",
      " 37%|███▋      | 41/110 [00:44<01:17,  1.13s/it]"
     ]
    },
    {
     "name": "stdout",
     "output_type": "stream",
     "text": [
      "'bill'\n",
      "42\n"
     ]
    },
    {
     "name": "stderr",
     "output_type": "stream",
     "text": [
      "\r",
      " 38%|███▊      | 42/110 [00:45<01:14,  1.10s/it]"
     ]
    },
    {
     "name": "stdout",
     "output_type": "stream",
     "text": [
      "43\n"
     ]
    },
    {
     "name": "stderr",
     "output_type": "stream",
     "text": [
      "\r",
      " 39%|███▉      | 43/110 [00:46<01:11,  1.07s/it]"
     ]
    },
    {
     "name": "stdout",
     "output_type": "stream",
     "text": [
      "44\n"
     ]
    },
    {
     "name": "stderr",
     "output_type": "stream",
     "text": [
      "\r",
      " 40%|████      | 44/110 [00:47<01:09,  1.06s/it]"
     ]
    },
    {
     "name": "stdout",
     "output_type": "stream",
     "text": [
      "'bill'\n",
      "45\n"
     ]
    },
    {
     "name": "stderr",
     "output_type": "stream",
     "text": [
      "\r",
      " 41%|████      | 45/110 [00:48<01:08,  1.05s/it]"
     ]
    },
    {
     "name": "stdout",
     "output_type": "stream",
     "text": [
      "'bill'\n",
      "46\n"
     ]
    },
    {
     "name": "stderr",
     "output_type": "stream",
     "text": [
      "\r",
      " 42%|████▏     | 46/110 [00:49<01:02,  1.02it/s]"
     ]
    },
    {
     "name": "stdout",
     "output_type": "stream",
     "text": [
      "'bill'\n",
      "47\n"
     ]
    },
    {
     "name": "stderr",
     "output_type": "stream",
     "text": [
      "\r",
      " 43%|████▎     | 47/110 [00:50<01:10,  1.12s/it]"
     ]
    },
    {
     "name": "stdout",
     "output_type": "stream",
     "text": [
      "'bill'\n",
      "48\n"
     ]
    },
    {
     "name": "stderr",
     "output_type": "stream",
     "text": [
      "\r",
      " 44%|████▎     | 48/110 [00:51<01:06,  1.07s/it]"
     ]
    },
    {
     "name": "stdout",
     "output_type": "stream",
     "text": [
      "'bill'\n",
      "49\n"
     ]
    },
    {
     "name": "stderr",
     "output_type": "stream",
     "text": [
      "\r",
      " 45%|████▍     | 49/110 [00:52<01:01,  1.01s/it]"
     ]
    },
    {
     "name": "stdout",
     "output_type": "stream",
     "text": [
      "'bill'\n",
      "50\n"
     ]
    },
    {
     "name": "stderr",
     "output_type": "stream",
     "text": [
      "\r",
      " 45%|████▌     | 50/110 [00:53<01:01,  1.02s/it]"
     ]
    },
    {
     "name": "stdout",
     "output_type": "stream",
     "text": [
      "51\n"
     ]
    },
    {
     "name": "stderr",
     "output_type": "stream",
     "text": [
      "\r",
      " 46%|████▋     | 51/110 [00:54<01:07,  1.14s/it]"
     ]
    },
    {
     "name": "stdout",
     "output_type": "stream",
     "text": [
      "52\n"
     ]
    },
    {
     "name": "stderr",
     "output_type": "stream",
     "text": [
      "\r",
      " 47%|████▋     | 52/110 [00:55<01:00,  1.04s/it]"
     ]
    },
    {
     "name": "stdout",
     "output_type": "stream",
     "text": [
      "'bill'\n",
      "53\n"
     ]
    },
    {
     "name": "stderr",
     "output_type": "stream",
     "text": [
      "\r",
      " 48%|████▊     | 53/110 [00:56<00:59,  1.04s/it]"
     ]
    },
    {
     "name": "stdout",
     "output_type": "stream",
     "text": [
      "'bill'\n",
      "54\n"
     ]
    },
    {
     "name": "stderr",
     "output_type": "stream",
     "text": [
      "\r",
      " 49%|████▉     | 54/110 [00:58<01:01,  1.10s/it]"
     ]
    },
    {
     "name": "stdout",
     "output_type": "stream",
     "text": [
      "'bill'\n",
      "55\n"
     ]
    },
    {
     "name": "stderr",
     "output_type": "stream",
     "text": [
      "\r",
      " 50%|█████     | 55/110 [00:59<00:59,  1.07s/it]"
     ]
    },
    {
     "name": "stdout",
     "output_type": "stream",
     "text": [
      "'bill'\n",
      "56\n"
     ]
    },
    {
     "name": "stderr",
     "output_type": "stream",
     "text": [
      "\r",
      " 51%|█████     | 56/110 [01:00<00:57,  1.06s/it]"
     ]
    },
    {
     "name": "stdout",
     "output_type": "stream",
     "text": [
      "'bill'\n",
      "57\n"
     ]
    },
    {
     "name": "stderr",
     "output_type": "stream",
     "text": [
      "\r",
      " 52%|█████▏    | 57/110 [01:01<00:55,  1.05s/it]"
     ]
    },
    {
     "name": "stdout",
     "output_type": "stream",
     "text": [
      "'bill'\n",
      "58\n"
     ]
    },
    {
     "name": "stderr",
     "output_type": "stream",
     "text": [
      "\r",
      " 53%|█████▎    | 58/110 [01:02<00:54,  1.04s/it]"
     ]
    },
    {
     "name": "stdout",
     "output_type": "stream",
     "text": [
      "'bill'\n",
      "59\n"
     ]
    },
    {
     "name": "stderr",
     "output_type": "stream",
     "text": [
      "\r",
      " 54%|█████▎    | 59/110 [01:03<00:55,  1.10s/it]"
     ]
    },
    {
     "name": "stdout",
     "output_type": "stream",
     "text": [
      "'bill'\n",
      "60\n"
     ]
    },
    {
     "name": "stderr",
     "output_type": "stream",
     "text": [
      "\r",
      " 55%|█████▍    | 60/110 [01:04<00:53,  1.08s/it]"
     ]
    },
    {
     "name": "stdout",
     "output_type": "stream",
     "text": [
      "'bill'\n",
      "61\n"
     ]
    },
    {
     "name": "stderr",
     "output_type": "stream",
     "text": [
      "\r",
      " 55%|█████▌    | 61/110 [01:05<00:48,  1.00it/s]"
     ]
    },
    {
     "name": "stdout",
     "output_type": "stream",
     "text": [
      "'bill'\n",
      "62\n"
     ]
    },
    {
     "name": "stderr",
     "output_type": "stream",
     "text": [
      "\r",
      " 56%|█████▋    | 62/110 [01:06<00:47,  1.01it/s]"
     ]
    },
    {
     "name": "stdout",
     "output_type": "stream",
     "text": [
      "'bill'\n",
      "63\n"
     ]
    },
    {
     "name": "stderr",
     "output_type": "stream",
     "text": [
      "\r",
      " 57%|█████▋    | 63/110 [01:07<00:44,  1.05it/s]"
     ]
    },
    {
     "name": "stdout",
     "output_type": "stream",
     "text": [
      "'bill'\n",
      "64\n"
     ]
    },
    {
     "name": "stderr",
     "output_type": "stream",
     "text": [
      "\r",
      " 58%|█████▊    | 64/110 [01:08<00:44,  1.03it/s]"
     ]
    },
    {
     "name": "stdout",
     "output_type": "stream",
     "text": [
      "'bill'\n",
      "65\n"
     ]
    },
    {
     "name": "stderr",
     "output_type": "stream",
     "text": [
      "\r",
      " 59%|█████▉    | 65/110 [01:09<00:44,  1.01it/s]"
     ]
    },
    {
     "name": "stdout",
     "output_type": "stream",
     "text": [
      "'bill'\n",
      "66\n"
     ]
    },
    {
     "name": "stderr",
     "output_type": "stream",
     "text": [
      "\r",
      " 60%|██████    | 66/110 [01:09<00:41,  1.07it/s]"
     ]
    },
    {
     "name": "stdout",
     "output_type": "stream",
     "text": [
      "67\n"
     ]
    },
    {
     "name": "stderr",
     "output_type": "stream",
     "text": [
      "\r",
      " 61%|██████    | 67/110 [01:10<00:41,  1.04it/s]"
     ]
    },
    {
     "name": "stdout",
     "output_type": "stream",
     "text": [
      "'bill'\n",
      "68\n"
     ]
    },
    {
     "name": "stderr",
     "output_type": "stream",
     "text": [
      "\r",
      " 62%|██████▏   | 68/110 [01:11<00:41,  1.02it/s]"
     ]
    },
    {
     "name": "stdout",
     "output_type": "stream",
     "text": [
      "'bill'\n",
      "69\n"
     ]
    },
    {
     "name": "stderr",
     "output_type": "stream",
     "text": [
      "\r",
      " 63%|██████▎   | 69/110 [01:12<00:40,  1.01it/s]"
     ]
    },
    {
     "name": "stdout",
     "output_type": "stream",
     "text": [
      "'bill'\n",
      "70\n"
     ]
    },
    {
     "name": "stderr",
     "output_type": "stream",
     "text": [
      "\r",
      " 64%|██████▎   | 70/110 [01:13<00:37,  1.06it/s]"
     ]
    },
    {
     "name": "stdout",
     "output_type": "stream",
     "text": [
      "'bill'\n",
      "71\n"
     ]
    },
    {
     "name": "stderr",
     "output_type": "stream",
     "text": [
      "\r",
      " 65%|██████▍   | 71/110 [01:14<00:37,  1.03it/s]"
     ]
    },
    {
     "name": "stdout",
     "output_type": "stream",
     "text": [
      "'bill'\n",
      "72\n"
     ]
    },
    {
     "name": "stderr",
     "output_type": "stream",
     "text": [
      "\r",
      " 65%|██████▌   | 72/110 [01:16<00:39,  1.05s/it]"
     ]
    },
    {
     "name": "stdout",
     "output_type": "stream",
     "text": [
      "'bill'\n",
      "73\n"
     ]
    },
    {
     "name": "stderr",
     "output_type": "stream",
     "text": [
      "\r",
      " 66%|██████▋   | 73/110 [01:17<00:38,  1.04s/it]"
     ]
    },
    {
     "name": "stdout",
     "output_type": "stream",
     "text": [
      "'bill'\n",
      "74\n"
     ]
    },
    {
     "name": "stderr",
     "output_type": "stream",
     "text": [
      "\r",
      " 67%|██████▋   | 74/110 [01:17<00:35,  1.03it/s]"
     ]
    },
    {
     "name": "stdout",
     "output_type": "stream",
     "text": [
      "'bill'\n",
      "75\n"
     ]
    },
    {
     "name": "stderr",
     "output_type": "stream",
     "text": [
      "\r",
      " 68%|██████▊   | 75/110 [01:18<00:34,  1.01it/s]"
     ]
    },
    {
     "name": "stdout",
     "output_type": "stream",
     "text": [
      "'bill'\n",
      "76\n"
     ]
    },
    {
     "name": "stderr",
     "output_type": "stream",
     "text": [
      "\r",
      " 69%|██████▉   | 76/110 [01:19<00:33,  1.00it/s]"
     ]
    },
    {
     "name": "stdout",
     "output_type": "stream",
     "text": [
      "'bill'\n",
      "77\n"
     ]
    },
    {
     "name": "stderr",
     "output_type": "stream",
     "text": [
      "\r",
      " 70%|███████   | 77/110 [01:20<00:31,  1.06it/s]"
     ]
    },
    {
     "name": "stdout",
     "output_type": "stream",
     "text": [
      "'bill'\n",
      "78\n"
     ]
    },
    {
     "name": "stderr",
     "output_type": "stream",
     "text": [
      "\r",
      " 71%|███████   | 78/110 [01:21<00:31,  1.03it/s]"
     ]
    },
    {
     "name": "stdout",
     "output_type": "stream",
     "text": [
      "'bill'\n",
      "79\n"
     ]
    },
    {
     "name": "stderr",
     "output_type": "stream",
     "text": [
      "\r",
      " 72%|███████▏  | 79/110 [01:22<00:28,  1.09it/s]"
     ]
    },
    {
     "name": "stdout",
     "output_type": "stream",
     "text": [
      "'bill'\n",
      "80\n"
     ]
    },
    {
     "name": "stderr",
     "output_type": "stream",
     "text": [
      "\r",
      " 73%|███████▎  | 80/110 [01:23<00:28,  1.05it/s]"
     ]
    },
    {
     "name": "stdout",
     "output_type": "stream",
     "text": [
      "81\n"
     ]
    },
    {
     "name": "stderr",
     "output_type": "stream",
     "text": [
      "\r",
      " 74%|███████▎  | 81/110 [01:24<00:26,  1.08it/s]"
     ]
    },
    {
     "name": "stdout",
     "output_type": "stream",
     "text": [
      "82\n"
     ]
    },
    {
     "name": "stderr",
     "output_type": "stream",
     "text": [
      "\r",
      " 75%|███████▍  | 82/110 [01:25<00:26,  1.06it/s]"
     ]
    },
    {
     "name": "stdout",
     "output_type": "stream",
     "text": [
      "83\n"
     ]
    },
    {
     "name": "stderr",
     "output_type": "stream",
     "text": [
      "\r",
      " 75%|███████▌  | 83/110 [01:26<00:27,  1.03s/it]"
     ]
    },
    {
     "name": "stdout",
     "output_type": "stream",
     "text": [
      "84\n"
     ]
    },
    {
     "name": "stderr",
     "output_type": "stream",
     "text": [
      "\r",
      " 76%|███████▋  | 84/110 [01:27<00:26,  1.02s/it]"
     ]
    },
    {
     "name": "stdout",
     "output_type": "stream",
     "text": [
      "85\n"
     ]
    },
    {
     "name": "stderr",
     "output_type": "stream",
     "text": [
      "\r",
      " 77%|███████▋  | 85/110 [01:28<00:24,  1.03it/s]"
     ]
    },
    {
     "name": "stdout",
     "output_type": "stream",
     "text": [
      "'bill'\n",
      "86\n"
     ]
    },
    {
     "name": "stderr",
     "output_type": "stream",
     "text": [
      "\r",
      " 78%|███████▊  | 86/110 [01:29<00:23,  1.02it/s]"
     ]
    },
    {
     "name": "stdout",
     "output_type": "stream",
     "text": [
      "'bill'\n",
      "87\n"
     ]
    },
    {
     "name": "stderr",
     "output_type": "stream",
     "text": [
      "\r",
      " 79%|███████▉  | 87/110 [01:30<00:21,  1.07it/s]"
     ]
    },
    {
     "name": "stdout",
     "output_type": "stream",
     "text": [
      "88\n"
     ]
    },
    {
     "name": "stderr",
     "output_type": "stream",
     "text": [
      "\r",
      " 80%|████████  | 88/110 [01:31<00:19,  1.11it/s]"
     ]
    },
    {
     "name": "stdout",
     "output_type": "stream",
     "text": [
      "'bill'\n",
      "89\n"
     ]
    },
    {
     "name": "stderr",
     "output_type": "stream",
     "text": [
      "\r",
      " 81%|████████  | 89/110 [01:32<00:18,  1.14it/s]"
     ]
    },
    {
     "name": "stdout",
     "output_type": "stream",
     "text": [
      "'bill'\n",
      "90\n"
     ]
    },
    {
     "name": "stderr",
     "output_type": "stream",
     "text": [
      "\r",
      " 82%|████████▏ | 90/110 [01:33<00:18,  1.09it/s]"
     ]
    },
    {
     "name": "stdout",
     "output_type": "stream",
     "text": [
      "'bill'\n",
      "91\n"
     ]
    },
    {
     "name": "stderr",
     "output_type": "stream",
     "text": [
      "\r",
      " 83%|████████▎ | 91/110 [01:34<00:21,  1.14s/it]"
     ]
    },
    {
     "name": "stdout",
     "output_type": "stream",
     "text": [
      "'bill'\n",
      "92\n"
     ]
    },
    {
     "name": "stderr",
     "output_type": "stream",
     "text": [
      "\r",
      " 84%|████████▎ | 92/110 [01:36<00:23,  1.29s/it]"
     ]
    },
    {
     "name": "stdout",
     "output_type": "stream",
     "text": [
      "93\n"
     ]
    },
    {
     "name": "stderr",
     "output_type": "stream",
     "text": [
      "\r",
      " 85%|████████▍ | 93/110 [01:37<00:19,  1.15s/it]"
     ]
    },
    {
     "name": "stdout",
     "output_type": "stream",
     "text": [
      "94\n"
     ]
    },
    {
     "name": "stderr",
     "output_type": "stream",
     "text": [
      "\r",
      " 85%|████████▌ | 94/110 [01:38<00:17,  1.11s/it]"
     ]
    },
    {
     "name": "stdout",
     "output_type": "stream",
     "text": [
      "95\n"
     ]
    },
    {
     "name": "stderr",
     "output_type": "stream",
     "text": [
      "\r",
      " 86%|████████▋ | 95/110 [01:39<00:17,  1.14s/it]"
     ]
    },
    {
     "name": "stdout",
     "output_type": "stream",
     "text": [
      "'bill'\n",
      "96\n"
     ]
    },
    {
     "name": "stderr",
     "output_type": "stream",
     "text": [
      "\r",
      " 87%|████████▋ | 96/110 [01:40<00:17,  1.23s/it]"
     ]
    },
    {
     "name": "stdout",
     "output_type": "stream",
     "text": [
      "'bill'\n",
      "97\n"
     ]
    },
    {
     "name": "stderr",
     "output_type": "stream",
     "text": [
      "\r",
      " 88%|████████▊ | 97/110 [01:41<00:14,  1.14s/it]"
     ]
    },
    {
     "name": "stdout",
     "output_type": "stream",
     "text": [
      "'bill'\n",
      "98\n"
     ]
    },
    {
     "name": "stderr",
     "output_type": "stream",
     "text": [
      "\r",
      " 89%|████████▉ | 98/110 [01:42<00:12,  1.07s/it]"
     ]
    },
    {
     "name": "stdout",
     "output_type": "stream",
     "text": [
      "'bill'\n",
      "99\n"
     ]
    },
    {
     "name": "stderr",
     "output_type": "stream",
     "text": [
      "\r",
      " 90%|█████████ | 99/110 [01:43<00:11,  1.06s/it]"
     ]
    },
    {
     "name": "stdout",
     "output_type": "stream",
     "text": [
      "100\n"
     ]
    },
    {
     "name": "stderr",
     "output_type": "stream",
     "text": [
      "\r",
      " 91%|█████████ | 100/110 [01:44<00:10,  1.05s/it]"
     ]
    },
    {
     "name": "stdout",
     "output_type": "stream",
     "text": [
      "101\n"
     ]
    },
    {
     "name": "stderr",
     "output_type": "stream",
     "text": [
      "\r",
      " 92%|█████████▏| 101/110 [01:45<00:09,  1.04s/it]"
     ]
    },
    {
     "name": "stdout",
     "output_type": "stream",
     "text": [
      "102\n"
     ]
    },
    {
     "name": "stderr",
     "output_type": "stream",
     "text": [
      "\r",
      " 93%|█████████▎| 102/110 [01:47<00:09,  1.16s/it]"
     ]
    },
    {
     "name": "stdout",
     "output_type": "stream",
     "text": [
      "103\n"
     ]
    },
    {
     "name": "stderr",
     "output_type": "stream",
     "text": [
      "\r",
      " 94%|█████████▎| 103/110 [01:48<00:07,  1.12s/it]"
     ]
    },
    {
     "name": "stdout",
     "output_type": "stream",
     "text": [
      "'bill'\n",
      "104\n"
     ]
    },
    {
     "name": "stderr",
     "output_type": "stream",
     "text": [
      "\r",
      " 95%|█████████▍| 104/110 [01:49<00:06,  1.09s/it]"
     ]
    },
    {
     "name": "stdout",
     "output_type": "stream",
     "text": [
      "'bill'\n",
      "105\n"
     ]
    },
    {
     "name": "stderr",
     "output_type": "stream",
     "text": [
      "\r",
      " 95%|█████████▌| 105/110 [01:50<00:05,  1.05s/it]"
     ]
    },
    {
     "name": "stdout",
     "output_type": "stream",
     "text": [
      "'bill'\n",
      "106\n"
     ]
    },
    {
     "name": "stderr",
     "output_type": "stream",
     "text": [
      "\r",
      " 96%|█████████▋| 106/110 [01:51<00:04,  1.04s/it]"
     ]
    },
    {
     "name": "stdout",
     "output_type": "stream",
     "text": [
      "'bill'\n",
      "107\n"
     ]
    },
    {
     "name": "stderr",
     "output_type": "stream",
     "text": [
      "\r",
      " 97%|█████████▋| 107/110 [01:52<00:03,  1.09s/it]"
     ]
    },
    {
     "name": "stdout",
     "output_type": "stream",
     "text": [
      "'bill'\n",
      "108\n"
     ]
    },
    {
     "name": "stderr",
     "output_type": "stream",
     "text": [
      "\r",
      " 98%|█████████▊| 108/110 [01:53<00:02,  1.02s/it]"
     ]
    },
    {
     "name": "stdout",
     "output_type": "stream",
     "text": [
      "'bill'\n",
      "109\n"
     ]
    },
    {
     "name": "stderr",
     "output_type": "stream",
     "text": [
      "\r",
      " 99%|█████████▉| 109/110 [01:54<00:01,  1.12s/it]"
     ]
    },
    {
     "name": "stdout",
     "output_type": "stream",
     "text": [
      "'bill'\n",
      "110\n"
     ]
    },
    {
     "name": "stderr",
     "output_type": "stream",
     "text": [
      "\r",
      "100%|██████████| 110/110 [01:55<00:00,  1.07s/it]"
     ]
    },
    {
     "name": "stdout",
     "output_type": "stream",
     "text": [
      "'bill'\n"
     ]
    },
    {
     "name": "stderr",
     "output_type": "stream",
     "text": [
      "\n"
     ]
    }
   ],
   "source": [
    "# create one large dataframe for all of the Senate votes\n",
    "senate_roll_calls_jan = len(r_senate_votes_1['results']['votes'])\n",
    "senate_roll_calls_feb = len(r_senate_votes_2['results']['votes'])\n",
    "senate_roll_calls_mar = len(r_senate_votes_3['results']['votes'])\n",
    "senate_roll_calls_apr = len(r_senate_votes_4['results']['votes'])\n",
    "senate_roll_calls_total = senate_roll_calls_jan + senate_roll_calls_feb + senate_roll_calls_mar + senate_roll_calls_apr\n",
    "\n",
    "all_senate_votes = pd.DataFrame()\n",
    "for rc in tqdm(range(1,senate_roll_calls_total)):\n",
    "    print rc\n",
    "    try:\n",
    "        rc_votes_temp_senate = requests.get(\"https://api.propublica.org/congress/v1/115/senate/sessions/1/votes/\" + str(rc) + \".json\", headers = key).json()\n",
    "        temp_df = pd.DataFrame(rc_votes_temp_senate['results']['votes']['vote']['positions'])\n",
    "        all_senate_votes = all_senate_votes.append(temp_df)\n",
    "        all_senate_votes['bill_id'] = rc_votes_temp_senate['results']['votes']['vote']['bill']['bill_id']\n",
    "    except KeyError as error:\n",
    "        print error"
   ]
  },
  {
   "cell_type": "code",
   "execution_count": null,
   "metadata": {
    "collapsed": false
   },
   "outputs": [],
   "source": [
    "# check the structure of the senate dataset\n",
    "all_senate_votes.head()"
   ]
  },
  {
   "cell_type": "code",
   "execution_count": null,
   "metadata": {
    "collapsed": false
   },
   "outputs": [],
   "source": [
    "# # check the number of House roll call votes in dataset\n",
    "# print \"Number of House votes: \" + str(len(all_house_votes))\n",
    "# print \"Number of House roll call votes with Bill ID: \" + str(len(all_house_votes) / 435)\n",
    "# print \"Number of House Bill IDs: \" + str(len(all_house_votes['bill_id']))\n",
    "# print \"Number of House Unique Bill IDs: \" + str(len(all_house_votes['bill_id'].unique()))\n",
    "\n",
    "# # check the number of Senate roll call votes in dataset\n",
    "# print \"Number of Senate votes: \" + str(len(all_senate_votes))\n",
    "# print \"Number of Senate roll call votes with Bill ID: \" + str(len(all_senate_votes) / 100)\n",
    "# print \"Number of Senate Bill IDs: \" + str(len(all_house_votes['bill_id']))\n",
    "# print \"Number of Senate Unique Bill IDs: \" + str(len(all_house_votes['bill_id'].unique()))"
   ]
  },
  {
   "cell_type": "code",
   "execution_count": null,
   "metadata": {
    "collapsed": false
   },
   "outputs": [],
   "source": [
    "# merge in membes with votes\n",
    "all_votes = pd.concat([all_house_votes,all_senate_votes])\n",
    "all_votes['counter'] = 1\n",
    "\n",
    "count_by_congressman = all_votes.groupby(['member_id','vote_position']).count()\n",
    "count_by_congressman_df = pd.DataFrame(count_by_congressman['counter'])\n",
    "count_by_congressman_df = count_by_congressman_df.reset_index(level = ['member_id','vote_position'])\n",
    "count_by_congressman_df = count_by_congressman_df[count_by_congressman_df['vote_position'] != \"Present\"]\n",
    "count_by_congressman_df.head()"
   ]
  },
  {
   "cell_type": "code",
   "execution_count": null,
   "metadata": {
    "collapsed": false
   },
   "outputs": [],
   "source": [
    "full_df = congress_members.merge(count_by_congressman_df, how = \"inner\", left_on = \"id\", right_on = \"member_id\")\n",
    "\n",
    "full_df['first_name'] = full_df['first_name'].str.encode('utf-8', errors='strict')\n",
    "full_df['last_name'] = full_df['last_name'].str.encode('utf-8', errors='strict')\n",
    "\n",
    "full_df = full_df.drop(['member_id'], axis = 1)\n",
    "print full_df.dtypes"
   ]
  },
  {
   "cell_type": "code",
   "execution_count": null,
   "metadata": {
    "collapsed": false
   },
   "outputs": [],
   "source": [
    "# full_df.to_csv('/Users/rmenon/Projects/congress_app/lib/data/congress_vote_distribution.csv',index = False)\n",
    "full_df.to_json('/Users/rmenon/Projects/congress_app/lib/data/congress_vote_distribution.json')"
   ]
  }
 ],
 "metadata": {
  "kernelspec": {
   "display_name": "Python [conda env:data_analysis]",
   "language": "python",
   "name": "conda-env-data_analysis-py"
  },
  "language_info": {
   "codemirror_mode": {
    "name": "ipython",
    "version": 2
   },
   "file_extension": ".py",
   "mimetype": "text/x-python",
   "name": "python",
   "nbconvert_exporter": "python",
   "pygments_lexer": "ipython2",
   "version": "2.7.13"
  }
 },
 "nbformat": 4,
 "nbformat_minor": 2
}
